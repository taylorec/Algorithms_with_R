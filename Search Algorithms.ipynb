{
 "cells": [
  {
   "cell_type": "markdown",
   "metadata": {},
   "source": [
    "##### Sequential / Linear search\n",
    "\n",
    "* funtion runtime: $ \\theta(n) $ "
   ]
  },
  {
   "cell_type": "code",
   "execution_count": 1,
   "metadata": {},
   "outputs": [],
   "source": [
    "V <- c(12,15,8,4,56,32,0,3,20,28,32,25,36,18)\n",
    "n=length(V)\n",
    "S=11\n",
    "\n",
    "Sequential_search <- function(V,S,n)\n",
    "{\n",
    "  i=1\n",
    "  present = FALSE\n",
    "\n",
    "  while(i <= n & present==FALSE)\n",
    "  {\n",
    "    if(V[i] == S)\n",
    "      present=TRUE else i = i+1\n",
    "  }\n",
    "  \n",
    "  return(list(present=present,key=i))\n",
    "}"
   ]
  },
  {
   "cell_type": "code",
   "execution_count": 2,
   "metadata": {},
   "outputs": [
    {
     "data": {
      "text/html": [
       "<dl>\n",
       "\t<dt>$present</dt>\n",
       "\t\t<dd>FALSE</dd>\n",
       "\t<dt>$key</dt>\n",
       "\t\t<dd>15</dd>\n",
       "</dl>\n"
      ],
      "text/latex": [
       "\\begin{description}\n",
       "\\item[\\$present] FALSE\n",
       "\\item[\\$key] 15\n",
       "\\end{description}\n"
      ],
      "text/markdown": [
       "$present\n",
       ":   FALSE\n",
       "$key\n",
       ":   15\n",
       "\n",
       "\n"
      ],
      "text/plain": [
       "$present\n",
       "[1] FALSE\n",
       "\n",
       "$key\n",
       "[1] 15\n"
      ]
     },
     "metadata": {},
     "output_type": "display_data"
    }
   ],
   "source": [
    "Sequential_search(V,S,n)"
   ]
  },
  {
   "cell_type": "code",
   "execution_count": 7,
   "metadata": {},
   "outputs": [
    {
     "data": {
      "text/html": [
       "<dl>\n",
       "\t<dt>$present</dt>\n",
       "\t\t<dd>TRUE</dd>\n",
       "\t<dt>$key</dt>\n",
       "\t\t<dd>2</dd>\n",
       "</dl>\n"
      ],
      "text/latex": [
       "\\begin{description}\n",
       "\\item[\\$present] TRUE\n",
       "\\item[\\$key] 2\n",
       "\\end{description}\n"
      ],
      "text/markdown": [
       "$present\n",
       ":   TRUE\n",
       "$key\n",
       ":   2\n",
       "\n",
       "\n"
      ],
      "text/plain": [
       "$present\n",
       "[1] TRUE\n",
       "\n",
       "$key\n",
       "[1] 2\n"
      ]
     },
     "metadata": {},
     "output_type": "display_data"
    }
   ],
   "source": [
    "S = 3\n",
    "Sequential_search(V,S,n)"
   ]
  },
  {
   "cell_type": "markdown",
   "metadata": {},
   "source": [
    "##### Ordered sequential search\n",
    "\n",
    "* funtion runtime: $ \\theta(n) $ "
   ]
  },
  {
   "cell_type": "code",
   "execution_count": 8,
   "metadata": {},
   "outputs": [],
   "source": [
    "V <- sort(V)\n",
    "\n",
    "Seq_ord_search <- function(V,S,n)\n",
    "{\n",
    "  i=1\n",
    "  present = FALSE\n",
    "   \n",
    "  while(i <= n & present==FALSE )\n",
    "  {\n",
    "    if(V[i] == S)\n",
    "      present=TRUE else if(V[i] > S)\n",
    "                            stop(\"element S not found\") else i=i+1\n",
    "  }\n",
    "  \n",
    "  return(present)\n",
    "}"
   ]
  },
  {
   "cell_type": "code",
   "execution_count": 9,
   "metadata": {},
   "outputs": [
    {
     "data": {
      "text/html": [
       "TRUE"
      ],
      "text/latex": [
       "TRUE"
      ],
      "text/markdown": [
       "TRUE"
      ],
      "text/plain": [
       "[1] TRUE"
      ]
     },
     "metadata": {},
     "output_type": "display_data"
    }
   ],
   "source": [
    "Seq_ord_search(V,S,n)"
   ]
  },
  {
   "cell_type": "markdown",
   "metadata": {},
   "source": [
    "##### Jump search\n",
    "\n",
    "* funtion runtime: $ \\theta(\\sqrt n) $ "
   ]
  },
  {
   "cell_type": "code",
   "execution_count": 10,
   "metadata": {},
   "outputs": [],
   "source": [
    "V <- sort(V)\n",
    "\n",
    "Jump_search <- function(V,S,n)\n",
    "{\n",
    "  jump <- floor(sqrt(n))\n",
    "  present = FALSE\n",
    "  i=1\n",
    "  \n",
    "  while(jump < n & V[jump] < S)\n",
    "  {\n",
    "    i=jump\n",
    "    jump = jump+floor(sqrt(n))\n",
    "    \n",
    "    if(jump>=n)\n",
    "      stop(\"element S not found\")\n",
    "  }\n",
    "  \n",
    "  while(V[i] < S & i <= jump)\n",
    "      i = i+1\n",
    "  \n",
    "  if(V[i]==S)\n",
    "    present=TRUE\n",
    "  \n",
    "  return(present)\n",
    "}"
   ]
  },
  {
   "cell_type": "code",
   "execution_count": 12,
   "metadata": {},
   "outputs": [
    {
     "data": {
      "text/html": [
       "TRUE"
      ],
      "text/latex": [
       "TRUE"
      ],
      "text/markdown": [
       "TRUE"
      ],
      "text/plain": [
       "[1] TRUE"
      ]
     },
     "metadata": {},
     "output_type": "display_data"
    }
   ],
   "source": [
    "Jump_search(V,3,length(V))"
   ]
  },
  {
   "cell_type": "markdown",
   "metadata": {},
   "source": [
    "##### Binary Search\n",
    "\n",
    "* funtion runtime: $ \\theta(\\log(n)) $ "
   ]
  },
  {
   "cell_type": "code",
   "execution_count": 13,
   "metadata": {},
   "outputs": [],
   "source": [
    "V <- c(12,15,8,4,56,32,0,3,20,28,32,25,36,18)\n",
    "S=32\n",
    "l=1\n",
    "h=length(V)\n"
   ]
  },
  {
   "cell_type": "code",
   "execution_count": 14,
   "metadata": {},
   "outputs": [],
   "source": [
    "Bin_search_recursive <- function(V,S,l,h) {\n",
    "  if ( h < l ) {\n",
    "    stop(\"h should be more than l\")\n",
    "  } else {\n",
    "    m <- floor((l + h) / 2)\n",
    "    \n",
    "    if ( V[m] > S )\n",
    "      Bin_search_recursive(V, S,l,m-1)\n",
    "    else if ( V[m] < S )\n",
    "      Bin_search_recursive(V, S, m+1, h)\n",
    "    else\n",
    "      return(m)\n",
    "  }\n",
    "}"
   ]
  },
  {
   "cell_type": "code",
   "execution_count": 15,
   "metadata": {},
   "outputs": [
    {
     "data": {
      "text/html": [
       "11"
      ],
      "text/latex": [
       "11"
      ],
      "text/markdown": [
       "11"
      ],
      "text/plain": [
       "[1] 11"
      ]
     },
     "metadata": {},
     "output_type": "display_data"
    }
   ],
   "source": [
    "Bin_search_recursive(V,S,1,14)"
   ]
  },
  {
   "cell_type": "code",
   "execution_count": 16,
   "metadata": {},
   "outputs": [],
   "source": [
    "Bin_search_iterative <- function(V, S,n) {\n",
    "  l=1\n",
    "  h=n\n",
    "  i = 0\n",
    "  \n",
    "  while ( l <= h ) {\n",
    "    m <- floor((l + h)/2)\n",
    "    if ( V[m] > S )\n",
    "      h <- m - 1\n",
    "    else if ( V[m] < S )\n",
    "      l <- m + 1\n",
    "    else if(V[m]==S)\n",
    "      return(TRUE)\n",
    "  }\n",
    "  return(FALSE)\n",
    "}"
   ]
  },
  {
   "cell_type": "code",
   "execution_count": 17,
   "metadata": {},
   "outputs": [
    {
     "data": {
      "text/html": [
       "TRUE"
      ],
      "text/latex": [
       "TRUE"
      ],
      "text/markdown": [
       "TRUE"
      ],
      "text/plain": [
       "[1] TRUE"
      ]
     },
     "metadata": {},
     "output_type": "display_data"
    }
   ],
   "source": [
    "Bin_search_iterative(V,S,n)"
   ]
  },
  {
   "cell_type": "markdown",
   "metadata": {},
   "source": [
    "##### Interpolation Search\n",
    "\n",
    "* funtion runtime: $ \\theta(\\log(n)) $ "
   ]
  },
  {
   "cell_type": "code",
   "execution_count": 19,
   "metadata": {},
   "outputs": [],
   "source": [
    "Interpolation_search <- function(V,S,n)\n",
    "{\n",
    "  i=1; j=n; l=V[1]; h=V[j];\n",
    "  \n",
    "  if(S<l | S>h) return(FALSE)\n",
    "  \n",
    "  while(i < j)\n",
    "  {\n",
    "    k = floor(i+((j-i)*(S-l))/(h-l))\n",
    "    print(k)\n",
    "    split = V[k]\n",
    "    if(S>split){\n",
    "      i=k+1; l=split\n",
    "    }else if(S < split){\n",
    "      j=k-1; h=split\n",
    "    }else if(V[k]==S){\n",
    "      return(TRUE)}\n",
    "  }\n",
    "  return(FALSE) \n",
    "}"
   ]
  },
  {
   "cell_type": "code",
   "execution_count": 20,
   "metadata": {},
   "outputs": [
    {
     "data": {
      "text/html": [
       "FALSE"
      ],
      "text/latex": [
       "FALSE"
      ],
      "text/markdown": [
       "FALSE"
      ],
      "text/plain": [
       "[1] FALSE"
      ]
     },
     "metadata": {},
     "output_type": "display_data"
    }
   ],
   "source": [
    "Interpolation_search(V,S,n)"
   ]
  },
  {
   "cell_type": "markdown",
   "metadata": {},
   "source": [
    "##### Count based SOL\n",
    "\n",
    "* funtion runtime: $ \\theta(\\log(n)) $ "
   ]
  },
  {
   "cell_type": "code",
   "execution_count": 22,
   "metadata": {},
   "outputs": [],
   "source": [
    "V <- c(1,2,3,4,5,6,7,8)\n",
    "S <- c(6,4,6,7,5,7,6,1,4,6,7,5)\n",
    "n_search = length(S)\n",
    "n=length(V)"
   ]
  },
  {
   "cell_type": "code",
   "execution_count": 23,
   "metadata": {},
   "outputs": [],
   "source": [
    "SOL_count <- function(V,S,n_search,n)\n",
    "{\n",
    "  if(is.null(V)) stop(\"NO elements in input vector\")\n",
    "  if(is.null(S)) stop(\"NO elemens to search\")\n",
    "  i=1\n",
    "  count <- as.list(sapply(1:n,function(x) 0))\n",
    "  names(count) <- V\n",
    "  while(i<=n_search)\n",
    "  {\n",
    "    if(Sequential_search(V,S[i],n)$present){\n",
    "      key <- Sequential_search(V,S[i],n)$key\n",
    "      count[key][[1]] <- count[key][[1]] + 1\n",
    "      count <- count[order(-unlist(count))]\n",
    "      V <- as.numeric(names(count))\n",
    "  }\n",
    "  i=i+1\n",
    "  }\n",
    "  return(V)\n",
    "}"
   ]
  },
  {
   "cell_type": "code",
   "execution_count": 24,
   "metadata": {},
   "outputs": [
    {
     "data": {
      "text/html": [
       "<ol class=list-inline>\n",
       "\t<li>6</li>\n",
       "\t<li>7</li>\n",
       "\t<li>4</li>\n",
       "\t<li>5</li>\n",
       "\t<li>1</li>\n",
       "\t<li>2</li>\n",
       "\t<li>3</li>\n",
       "\t<li>8</li>\n",
       "</ol>\n"
      ],
      "text/latex": [
       "\\begin{enumerate*}\n",
       "\\item 6\n",
       "\\item 7\n",
       "\\item 4\n",
       "\\item 5\n",
       "\\item 1\n",
       "\\item 2\n",
       "\\item 3\n",
       "\\item 8\n",
       "\\end{enumerate*}\n"
      ],
      "text/markdown": [
       "1. 6\n",
       "2. 7\n",
       "3. 4\n",
       "4. 5\n",
       "5. 1\n",
       "6. 2\n",
       "7. 3\n",
       "8. 8\n",
       "\n",
       "\n"
      ],
      "text/plain": [
       "[1] 6 7 4 5 1 2 3 8"
      ]
     },
     "metadata": {},
     "output_type": "display_data"
    }
   ],
   "source": [
    "SOL_count(V,S,n_search,n)"
   ]
  },
  {
   "cell_type": "markdown",
   "metadata": {},
   "source": [
    "##### Move To Front Self Organizind List\n",
    "\n",
    "* funtion runtime: $ \\theta(\\log(n)) $ "
   ]
  },
  {
   "cell_type": "code",
   "execution_count": 26,
   "metadata": {},
   "outputs": [],
   "source": [
    "SOL_move <- function(V,S,n_search,n)\n",
    "{\n",
    "  if(is.null(V)) stop(\"NO elements in input vector\")\n",
    "  if(is.null(S)) stop(\"NO elemens to search\")\n",
    "  i=1\n",
    "  while(i<=n_search)\n",
    "  {\n",
    "    if(Sequential_search(V,S[i],n)$present){\n",
    "      if(Sequential_search(V,S[i],n)$key !=1){\n",
    "        key <- Sequential_search(V,S[i],n)$key\n",
    "        temp <- V[key]\n",
    "        V <- V[-key] \n",
    "        V <- c(temp,V)\n",
    "      }\n",
    "    }\n",
    "    i <- i+1\n",
    "  }\n",
    "  return(V)\n",
    "}"
   ]
  },
  {
   "cell_type": "code",
   "execution_count": 27,
   "metadata": {},
   "outputs": [
    {
     "data": {
      "text/html": [
       "<ol class=list-inline>\n",
       "\t<li>5</li>\n",
       "\t<li>7</li>\n",
       "\t<li>6</li>\n",
       "\t<li>4</li>\n",
       "\t<li>1</li>\n",
       "\t<li>2</li>\n",
       "\t<li>3</li>\n",
       "\t<li>8</li>\n",
       "</ol>\n"
      ],
      "text/latex": [
       "\\begin{enumerate*}\n",
       "\\item 5\n",
       "\\item 7\n",
       "\\item 6\n",
       "\\item 4\n",
       "\\item 1\n",
       "\\item 2\n",
       "\\item 3\n",
       "\\item 8\n",
       "\\end{enumerate*}\n"
      ],
      "text/markdown": [
       "1. 5\n",
       "2. 7\n",
       "3. 6\n",
       "4. 4\n",
       "5. 1\n",
       "6. 2\n",
       "7. 3\n",
       "8. 8\n",
       "\n",
       "\n"
      ],
      "text/plain": [
       "[1] 5 7 6 4 1 2 3 8"
      ]
     },
     "metadata": {},
     "output_type": "display_data"
    }
   ],
   "source": [
    "SOL_move(V,S,n_search,n)"
   ]
  },
  {
   "cell_type": "markdown",
   "metadata": {},
   "source": [
    "##### Transpose Self Organizind List\n",
    "\n",
    "* funtion runtime: $ \\theta(\\log(n)) $ "
   ]
  },
  {
   "cell_type": "code",
   "execution_count": 28,
   "metadata": {},
   "outputs": [],
   "source": [
    "SOL_transpose <- function(V,S,n_search,n)\n",
    "{\n",
    "  if(is.null(V)) stop(\"NO elements in input vector\")\n",
    "  if(is.null(S)) stop(\"NO elemens to search\")\n",
    "  i=1\n",
    "  while(i<=n_search)\n",
    "  {\n",
    "    if(Sequential_search(V,S[i],n)$present){\n",
    "      if(Sequential_search(V,S[i],n)$key !=1){\n",
    "        key <- Sequential_search(V,S[i],n)$key\n",
    "        temp <- V[key-1]\n",
    "        V[key-1] <- V[key]\n",
    "        V[key] <- temp\n",
    "      }\n",
    "    }\n",
    "    i <- i+1\n",
    "  }\n",
    "  return(V)\n",
    "}"
   ]
  },
  {
   "cell_type": "code",
   "execution_count": 29,
   "metadata": {},
   "outputs": [
    {
     "data": {
      "text/html": [
       "<ol class=list-inline>\n",
       "\t<li>1</li>\n",
       "\t<li>2</li>\n",
       "\t<li>6</li>\n",
       "\t<li>4</li>\n",
       "\t<li>7</li>\n",
       "\t<li>5</li>\n",
       "\t<li>3</li>\n",
       "\t<li>8</li>\n",
       "</ol>\n"
      ],
      "text/latex": [
       "\\begin{enumerate*}\n",
       "\\item 1\n",
       "\\item 2\n",
       "\\item 6\n",
       "\\item 4\n",
       "\\item 7\n",
       "\\item 5\n",
       "\\item 3\n",
       "\\item 8\n",
       "\\end{enumerate*}\n"
      ],
      "text/markdown": [
       "1. 1\n",
       "2. 2\n",
       "3. 6\n",
       "4. 4\n",
       "5. 7\n",
       "6. 5\n",
       "7. 3\n",
       "8. 8\n",
       "\n",
       "\n"
      ],
      "text/plain": [
       "[1] 1 2 6 4 7 5 3 8"
      ]
     },
     "metadata": {},
     "output_type": "display_data"
    }
   ],
   "source": [
    "SOL_transpose(V,S,n_search,n)"
   ]
  },
  {
   "cell_type": "markdown",
   "metadata": {},
   "source": [
    "##### Hash functions"
   ]
  },
  {
   "cell_type": "code",
   "execution_count": 31,
   "metadata": {},
   "outputs": [],
   "source": [
    "hash_int <- function(K)\n",
    "{\n",
    "  return (K %% 18)\n",
    "}\n",
    "\n",
    "hash_string <- function(K,n)\n",
    "{\n",
    "  hashValue <- 0\n",
    "  for(i in 1:n){\n",
    "    hashValue <- hashValue+as.numeric(charToRaw(substr(K,i,i)))\n",
    "  }\n",
    "  return(hashValue)\n",
    "}\n"
   ]
  },
  {
   "cell_type": "code",
   "execution_count": null,
   "metadata": {},
   "outputs": [],
   "source": []
  }
 ],
 "metadata": {
  "kernelspec": {
   "display_name": "R",
   "language": "R",
   "name": "ir"
  },
  "language_info": {
   "codemirror_mode": "r",
   "file_extension": ".r",
   "mimetype": "text/x-r-source",
   "name": "R",
   "pygments_lexer": "r",
   "version": "3.6.1"
  }
 },
 "nbformat": 4,
 "nbformat_minor": 4
}
