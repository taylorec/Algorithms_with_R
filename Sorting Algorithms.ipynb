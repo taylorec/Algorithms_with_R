{
 "cells": [
  {
   "cell_type": "markdown",
   "metadata": {},
   "source": [
    "##### Insertion sort\n",
    "\n",
    "* function runtime: $ \\sum^n_2 i = \\frac{(n-1)(n)}{2} $ ~ $ \\theta(n^2) $ "
   ]
  },
  {
   "cell_type": "code",
   "execution_count": 2,
   "metadata": {},
   "outputs": [],
   "source": [
    "Insertion_Sort <- function(V,n)\n",
    "{\n",
    "  if(n==0) stop(\"No elements to sort\")\n",
    "  for(i in 2:(length(V)))\n",
    "  {\n",
    "    val <- V[i]\n",
    "    j <- i - 1\n",
    "    while (j >= 1 && val <= V[j])\n",
    "    {\n",
    "      V[j+1] <- V[j]\n",
    "      j <- j-1\n",
    "    }\n",
    "    V[j+1] <- val\n",
    "  }\n",
    "  return(V)\n",
    "}"
   ]
  },
  {
   "cell_type": "code",
   "execution_count": 9,
   "metadata": {},
   "outputs": [
    {
     "data": {
      "text/html": [
       "8"
      ],
      "text/latex": [
       "8"
      ],
      "text/markdown": [
       "8"
      ],
      "text/plain": [
       "[1] 8"
      ]
     },
     "metadata": {},
     "output_type": "display_data"
    }
   ],
   "source": [
    "V=c(20,12,65,8,10,16,43,35)\n",
    "n = length(V)"
   ]
  },
  {
   "cell_type": "code",
   "execution_count": 11,
   "metadata": {},
   "outputs": [
    {
     "data": {
      "text/html": [
       "<ol class=list-inline>\n",
       "\t<li>8</li>\n",
       "\t<li>10</li>\n",
       "\t<li>12</li>\n",
       "\t<li>16</li>\n",
       "\t<li>20</li>\n",
       "\t<li>35</li>\n",
       "\t<li>43</li>\n",
       "\t<li>65</li>\n",
       "</ol>\n"
      ],
      "text/latex": [
       "\\begin{enumerate*}\n",
       "\\item 8\n",
       "\\item 10\n",
       "\\item 12\n",
       "\\item 16\n",
       "\\item 20\n",
       "\\item 35\n",
       "\\item 43\n",
       "\\item 65\n",
       "\\end{enumerate*}\n"
      ],
      "text/markdown": [
       "1. 8\n",
       "2. 10\n",
       "3. 12\n",
       "4. 16\n",
       "5. 20\n",
       "6. 35\n",
       "7. 43\n",
       "8. 65\n",
       "\n",
       "\n"
      ],
      "text/plain": [
       "[1]  8 10 12 16 20 35 43 65"
      ]
     },
     "metadata": {},
     "output_type": "display_data"
    }
   ],
   "source": [
    "Insertion_Sort(V,n=length(V))"
   ]
  },
  {
   "cell_type": "markdown",
   "metadata": {},
   "source": [
    "##### Bubble sort\n",
    "\n",
    "* function runtime: $ \\theta(n^2) $ "
   ]
  },
  {
   "cell_type": "code",
   "execution_count": 12,
   "metadata": {},
   "outputs": [],
   "source": [
    "Bubble_Sort <- function(V,n) {\n",
    "  if(n==0) stop(\"No elements to sort\")\n",
    "  for(i in 1:length(V)) {\n",
    "    flag <- 0\n",
    "    for(j in 1:(length(V)-i)) {\n",
    "      if ( V[j] > V[j+1] ) {\n",
    "        val <- V[j]\n",
    "        V[j] <- V[j+1]\n",
    "        V[j+1] <- val\n",
    "        flag <- 1\n",
    "      } \n",
    "    }\n",
    "    if(!flag) break\n",
    "  }\n",
    "  return(V)\n",
    "}"
   ]
  },
  {
   "cell_type": "code",
   "execution_count": 13,
   "metadata": {},
   "outputs": [
    {
     "data": {
      "text/html": [
       "<ol class=list-inline>\n",
       "\t<li>8</li>\n",
       "\t<li>10</li>\n",
       "\t<li>12</li>\n",
       "\t<li>16</li>\n",
       "\t<li>20</li>\n",
       "\t<li>35</li>\n",
       "\t<li>43</li>\n",
       "\t<li>65</li>\n",
       "</ol>\n"
      ],
      "text/latex": [
       "\\begin{enumerate*}\n",
       "\\item 8\n",
       "\\item 10\n",
       "\\item 12\n",
       "\\item 16\n",
       "\\item 20\n",
       "\\item 35\n",
       "\\item 43\n",
       "\\item 65\n",
       "\\end{enumerate*}\n"
      ],
      "text/markdown": [
       "1. 8\n",
       "2. 10\n",
       "3. 12\n",
       "4. 16\n",
       "5. 20\n",
       "6. 35\n",
       "7. 43\n",
       "8. 65\n",
       "\n",
       "\n"
      ],
      "text/plain": [
       "[1]  8 10 12 16 20 35 43 65"
      ]
     },
     "metadata": {},
     "output_type": "display_data"
    }
   ],
   "source": [
    "V=c(20,12,65,8,10,16,43,35)\n",
    "n = length(V)\n",
    "Bubble_Sort(V,n)"
   ]
  },
  {
   "cell_type": "markdown",
   "metadata": {},
   "source": [
    "##### Selection sort\n",
    "\n",
    "* funtion runtime: $ \\theta(n^2) $ "
   ]
  },
  {
   "cell_type": "code",
   "execution_count": 14,
   "metadata": {},
   "outputs": [],
   "source": [
    "Selection_Sort_loop <- function(V,n) {\n",
    "  if(n==0) stop(\"No elements to sort\")\n",
    "  keys <- seq_along(V)\n",
    "  for(i in keys) {\n",
    "    small_pos <- (i - 1) + which.min(V[i:length(V)])\n",
    "    temp <- V[i]\n",
    "    V[i] <- V[small_pos]\n",
    "    V[small_pos] <-temp\n",
    "  }\n",
    "  return(V)\n",
    "}"
   ]
  },
  {
   "cell_type": "code",
   "execution_count": 16,
   "metadata": {},
   "outputs": [
    {
     "data": {
      "text/html": [
       "<ol class=list-inline>\n",
       "\t<li>8</li>\n",
       "\t<li>10</li>\n",
       "\t<li>12</li>\n",
       "\t<li>16</li>\n",
       "\t<li>20</li>\n",
       "\t<li>35</li>\n",
       "\t<li>43</li>\n",
       "\t<li>65</li>\n",
       "</ol>\n"
      ],
      "text/latex": [
       "\\begin{enumerate*}\n",
       "\\item 8\n",
       "\\item 10\n",
       "\\item 12\n",
       "\\item 16\n",
       "\\item 20\n",
       "\\item 35\n",
       "\\item 43\n",
       "\\item 65\n",
       "\\end{enumerate*}\n"
      ],
      "text/markdown": [
       "1. 8\n",
       "2. 10\n",
       "3. 12\n",
       "4. 16\n",
       "5. 20\n",
       "6. 35\n",
       "7. 43\n",
       "8. 65\n",
       "\n",
       "\n"
      ],
      "text/plain": [
       "[1]  8 10 12 16 20 35 43 65"
      ]
     },
     "metadata": {},
     "output_type": "display_data"
    }
   ],
   "source": [
    "V=c(20,12,65,8,10,16,43,35)\n",
    "n = length(V)\n",
    "Selection_Sort_loop(V,n)"
   ]
  },
  {
   "cell_type": "markdown",
   "metadata": {},
   "source": [
    "##### Shell sort\n",
    "\n",
    "* funtion runtime: $ \\theta(n^{4/3}) $ "
   ]
  },
  {
   "cell_type": "code",
   "execution_count": 17,
   "metadata": {},
   "outputs": [],
   "source": [
    "Shell_Sort <- function(V,n) {\n",
    "  if(n==0) stop(\"No elements to sort\")\n",
    "  increment=round(n/2)  ## as.integer \n",
    "  while(increment>0) {\n",
    "    for(i in (increment+1):n) {\n",
    "      temp <- V[i]\n",
    "      j=i\n",
    "      while(j >= (increment+1)  && V[j-increment] > temp) {\n",
    "        V[j] <- V[j-increment]\n",
    "        j <- j-increment\n",
    "      }\n",
    "      V[j] <- temp\n",
    "    }\n",
    "    if(increment==2) {\n",
    "      increment <- 1} else{\n",
    "        increment <- round(increment/2.2)\n",
    "      }\n",
    "    }\n",
    "  return(V)\n",
    "}"
   ]
  },
  {
   "cell_type": "code",
   "execution_count": 18,
   "metadata": {},
   "outputs": [
    {
     "data": {
      "text/html": [
       "<ol class=list-inline>\n",
       "\t<li>2</li>\n",
       "\t<li>8</li>\n",
       "\t<li>10</li>\n",
       "\t<li>12</li>\n",
       "\t<li>16</li>\n",
       "\t<li>20</li>\n",
       "\t<li>23</li>\n",
       "\t<li>27</li>\n",
       "\t<li>35</li>\n",
       "\t<li>41</li>\n",
       "\t<li>43</li>\n",
       "\t<li>56</li>\n",
       "\t<li>56</li>\n",
       "\t<li>65</li>\n",
       "\t<li>67</li>\n",
       "\t<li>88</li>\n",
       "</ol>\n"
      ],
      "text/latex": [
       "\\begin{enumerate*}\n",
       "\\item 2\n",
       "\\item 8\n",
       "\\item 10\n",
       "\\item 12\n",
       "\\item 16\n",
       "\\item 20\n",
       "\\item 23\n",
       "\\item 27\n",
       "\\item 35\n",
       "\\item 41\n",
       "\\item 43\n",
       "\\item 56\n",
       "\\item 56\n",
       "\\item 65\n",
       "\\item 67\n",
       "\\item 88\n",
       "\\end{enumerate*}\n"
      ],
      "text/markdown": [
       "1. 2\n",
       "2. 8\n",
       "3. 10\n",
       "4. 12\n",
       "5. 16\n",
       "6. 20\n",
       "7. 23\n",
       "8. 27\n",
       "9. 35\n",
       "10. 41\n",
       "11. 43\n",
       "12. 56\n",
       "13. 56\n",
       "14. 65\n",
       "15. 67\n",
       "16. 88\n",
       "\n",
       "\n"
      ],
      "text/plain": [
       " [1]  2  8 10 12 16 20 23 27 35 41 43 56 56 65 67 88"
      ]
     },
     "metadata": {},
     "output_type": "display_data"
    }
   ],
   "source": [
    "V = c(20,12,65,8,10,16,43,35,23,88,2,56,41,27,67,56)\n",
    "n = length(V)\n",
    "Shell_Sort(V,n)"
   ]
  },
  {
   "cell_type": "markdown",
   "metadata": {},
   "source": [
    "##### Merge sort\n",
    "\n",
    "* funtion runtime: $ \\theta(n(log(n) $ "
   ]
  },
  {
   "cell_type": "code",
   "execution_count": 19,
   "metadata": {},
   "outputs": [],
   "source": [
    "Merge_Sort <- function(V) {\n",
    "  if(length(V) == 0) stop(\"Not enough elements to sort\")\n",
    "  \n",
    "  ## Merge function to sort two halves or sub-vectors\n",
    "  merge_fn <- function(first_half, second_half) {\n",
    "    result <- c()\n",
    "    while(length(first_half) > 0 && length(second_half) > 0) {\n",
    "      if(first_half[1] <= second_half[1]) {\n",
    "        result <- c(result, first_half[1])\n",
    "        first_half <- first_half[-1]\n",
    "      } else {\n",
    "        result <- c(result, second_half[1])\n",
    "        second_half <- second_half[-1]\n",
    "      }         \n",
    "    }\n",
    "    if(length(first_half) > 0) result <- c(result, first_half)\n",
    "    if(length(second_half) > 0) result <- c(result, second_half)\n",
    "    return(result)\n",
    "  }\n",
    "  \n",
    "  ## Recursively split the parent vector into two halves (sub-vectors)\n",
    "  if(length(V) <= 1) V else {\n",
    "    middle <- length(V) / 2\n",
    "    first_half <- V[1:floor(middle)]\n",
    "    second_half <- V[floor(middle+1):length(V)]\n",
    "    first_half <- Merge_Sort(first_half)\n",
    "    second_half <- Merge_Sort(second_half)\n",
    "    if(first_half[length(first_half)] <= second_half[1]) {\n",
    "      c(first_half, second_half)\n",
    "    } else {\n",
    "      merge_fn(first_half, second_half)\n",
    "    } \n",
    "  }\n",
    "}"
   ]
  },
  {
   "cell_type": "code",
   "execution_count": 21,
   "metadata": {},
   "outputs": [
    {
     "data": {
      "text/html": [
       "<ol class=list-inline>\n",
       "\t<li>2</li>\n",
       "\t<li>8</li>\n",
       "\t<li>10</li>\n",
       "\t<li>12</li>\n",
       "\t<li>16</li>\n",
       "\t<li>20</li>\n",
       "\t<li>23</li>\n",
       "\t<li>27</li>\n",
       "\t<li>35</li>\n",
       "\t<li>41</li>\n",
       "\t<li>43</li>\n",
       "\t<li>56</li>\n",
       "\t<li>56</li>\n",
       "\t<li>65</li>\n",
       "\t<li>67</li>\n",
       "\t<li>88</li>\n",
       "</ol>\n"
      ],
      "text/latex": [
       "\\begin{enumerate*}\n",
       "\\item 2\n",
       "\\item 8\n",
       "\\item 10\n",
       "\\item 12\n",
       "\\item 16\n",
       "\\item 20\n",
       "\\item 23\n",
       "\\item 27\n",
       "\\item 35\n",
       "\\item 41\n",
       "\\item 43\n",
       "\\item 56\n",
       "\\item 56\n",
       "\\item 65\n",
       "\\item 67\n",
       "\\item 88\n",
       "\\end{enumerate*}\n"
      ],
      "text/markdown": [
       "1. 2\n",
       "2. 8\n",
       "3. 10\n",
       "4. 12\n",
       "5. 16\n",
       "6. 20\n",
       "7. 23\n",
       "8. 27\n",
       "9. 35\n",
       "10. 41\n",
       "11. 43\n",
       "12. 56\n",
       "13. 56\n",
       "14. 65\n",
       "15. 67\n",
       "16. 88\n",
       "\n",
       "\n"
      ],
      "text/plain": [
       " [1]  2  8 10 12 16 20 23 27 35 41 43 56 56 65 67 88"
      ]
     },
     "metadata": {},
     "output_type": "display_data"
    }
   ],
   "source": [
    "V = c(20,12,65,8,10,16,43,35,23,88,2,56,41,27,67,56)\n",
    "Merge_Sort(V)"
   ]
  },
  {
   "cell_type": "markdown",
   "metadata": {},
   "source": [
    "##### Quick sort\n",
    "\n",
    "* funtion runtime: $ \\theta(n(log(n))) $ "
   ]
  },
  {
   "cell_type": "code",
   "execution_count": 23,
   "metadata": {},
   "outputs": [],
   "source": [
    "Quick_Sort <- function(V,n) {  \n",
    "  if (n <= 1) return(V)\n",
    "  left <- 0 ##start from left prior first element\n",
    "  right <- n  ##start from rightmost element\n",
    "  v <- V[n] ## initialize last element as pivot element\n",
    "  \n",
    "  ## Partition implementation\n",
    "  repeat {\n",
    "    while (left < n && V[left+1]  < v) left <- left+1\n",
    "    while (right > 1 && V[right-1] >= v) right <- right-1\n",
    "    if (left >= right-1) break\n",
    "    ## Swap elements to put pivot in place\n",
    "    temp <- V[left+1]\n",
    "    V[left+1] <- V[right-1]\n",
    "    V[right-1] <- temp\n",
    "  }\n",
    "  \n",
    "  ## Recursive implementation of Quick sort\n",
    "  if (left == 0) return(c(V[n], Quick_Sort(V[1:(n-1)],n=(n-1))))\n",
    "  if (right == n) return(c(Quick_Sort(V[1:(n-1)],n=(n-1)), V[n]))\n",
    "  return( c(Quick_Sort(V[1:left],n=left), V[n], Quick_Sort(V[(left+1):(n-1)],n=(n-left-1))))\n",
    "}"
   ]
  },
  {
   "cell_type": "code",
   "execution_count": 24,
   "metadata": {},
   "outputs": [
    {
     "data": {
      "text/html": [
       "<ol class=list-inline>\n",
       "\t<li>2</li>\n",
       "\t<li>8</li>\n",
       "\t<li>10</li>\n",
       "\t<li>12</li>\n",
       "\t<li>16</li>\n",
       "\t<li>20</li>\n",
       "\t<li>23</li>\n",
       "\t<li>27</li>\n",
       "\t<li>35</li>\n",
       "\t<li>41</li>\n",
       "\t<li>43</li>\n",
       "\t<li>56</li>\n",
       "\t<li>56</li>\n",
       "\t<li>65</li>\n",
       "\t<li>67</li>\n",
       "\t<li>88</li>\n",
       "</ol>\n"
      ],
      "text/latex": [
       "\\begin{enumerate*}\n",
       "\\item 2\n",
       "\\item 8\n",
       "\\item 10\n",
       "\\item 12\n",
       "\\item 16\n",
       "\\item 20\n",
       "\\item 23\n",
       "\\item 27\n",
       "\\item 35\n",
       "\\item 41\n",
       "\\item 43\n",
       "\\item 56\n",
       "\\item 56\n",
       "\\item 65\n",
       "\\item 67\n",
       "\\item 88\n",
       "\\end{enumerate*}\n"
      ],
      "text/markdown": [
       "1. 2\n",
       "2. 8\n",
       "3. 10\n",
       "4. 12\n",
       "5. 16\n",
       "6. 20\n",
       "7. 23\n",
       "8. 27\n",
       "9. 35\n",
       "10. 41\n",
       "11. 43\n",
       "12. 56\n",
       "13. 56\n",
       "14. 65\n",
       "15. 67\n",
       "16. 88\n",
       "\n",
       "\n"
      ],
      "text/plain": [
       " [1]  2  8 10 12 16 20 23 27 35 41 43 56 56 65 67 88"
      ]
     },
     "metadata": {},
     "output_type": "display_data"
    }
   ],
   "source": [
    "V = c(20,12,65,8,10,16,43,35,23,88,2,56,41,27,67,56)\n",
    "n = length(V)\n",
    "Quick_Sort(V,n)"
   ]
  },
  {
   "cell_type": "markdown",
   "metadata": {},
   "source": [
    "##### Heap sort\n",
    "\n",
    "* funtion runtime: $ \\theta(n(log(n))) $ "
   ]
  },
  {
   "cell_type": "code",
   "execution_count": 25,
   "metadata": {},
   "outputs": [],
   "source": [
    "Heap_Sort <- function(V)\n",
    "{\n",
    "  heapsize <- length(V)\n",
    "  for (i in floor(length(V)/2):1)\n",
    "    V <- max_heap(V, i,heapsize)\n",
    "  for (i in length(V):2) {\n",
    "    temp <- V[i]\n",
    "    V[i] <- V[1]\n",
    "    V[1] <- temp\n",
    "    heapsize <- heapsize -1\n",
    "    V <- max_heap(V, 1,heapsize)\n",
    "  }\n",
    "  return(V)\n",
    "}\n",
    "\n",
    "max_heap <- function(V, i,heapsize) {\n",
    "  left <- 2*i\n",
    "  right <- 2*i+1\n",
    "  if (left<=heapsize && V[left]>V[i]){\n",
    "    largest <- left}else{\n",
    "    largest <- i\n",
    "    }\n",
    "  \n",
    "  if (right<=heapsize && V[right]>V[largest])\n",
    "    largest <- right\n",
    "  \n",
    "  if (largest != i) {\n",
    "    temp2 <- V[largest]\n",
    "    V[largest] <- V[i]\n",
    "    V[i] <- temp2\n",
    "    V <- max_heap(V, largest,heapsize)\n",
    "  }\n",
    "  return(V)\n",
    "}"
   ]
  },
  {
   "cell_type": "code",
   "execution_count": 26,
   "metadata": {},
   "outputs": [
    {
     "data": {
      "text/html": [
       "<ol class=list-inline>\n",
       "\t<li>2</li>\n",
       "\t<li>8</li>\n",
       "\t<li>10</li>\n",
       "\t<li>12</li>\n",
       "\t<li>16</li>\n",
       "\t<li>20</li>\n",
       "\t<li>23</li>\n",
       "\t<li>27</li>\n",
       "\t<li>35</li>\n",
       "\t<li>41</li>\n",
       "\t<li>43</li>\n",
       "\t<li>56</li>\n",
       "\t<li>56</li>\n",
       "\t<li>65</li>\n",
       "\t<li>67</li>\n",
       "\t<li>88</li>\n",
       "</ol>\n"
      ],
      "text/latex": [
       "\\begin{enumerate*}\n",
       "\\item 2\n",
       "\\item 8\n",
       "\\item 10\n",
       "\\item 12\n",
       "\\item 16\n",
       "\\item 20\n",
       "\\item 23\n",
       "\\item 27\n",
       "\\item 35\n",
       "\\item 41\n",
       "\\item 43\n",
       "\\item 56\n",
       "\\item 56\n",
       "\\item 65\n",
       "\\item 67\n",
       "\\item 88\n",
       "\\end{enumerate*}\n"
      ],
      "text/markdown": [
       "1. 2\n",
       "2. 8\n",
       "3. 10\n",
       "4. 12\n",
       "5. 16\n",
       "6. 20\n",
       "7. 23\n",
       "8. 27\n",
       "9. 35\n",
       "10. 41\n",
       "11. 43\n",
       "12. 56\n",
       "13. 56\n",
       "14. 65\n",
       "15. 67\n",
       "16. 88\n",
       "\n",
       "\n"
      ],
      "text/plain": [
       " [1]  2  8 10 12 16 20 23 27 35 41 43 56 56 65 67 88"
      ]
     },
     "metadata": {},
     "output_type": "display_data"
    }
   ],
   "source": [
    "V = c(20,12,65,8,10,16,43,35,23,88,2,56,41,27,67,56)\n",
    "Heap_Sort(V)"
   ]
  },
  {
   "cell_type": "markdown",
   "metadata": {},
   "source": [
    "##### Bin sort\n",
    "\n",
    "* funtion runtime: $ \\theta(n(log(n))) $ "
   ]
  },
  {
   "cell_type": "code",
   "execution_count": 29,
   "metadata": {},
   "outputs": [],
   "source": [
    "# binsort Algorithm\n",
    "Bin_Sort=function(V,n,maxValue){\n",
    "  bin <-list(\"binValues\"=list(), \"nElement\"=NA)\n",
    "  # create empty bins\n",
    "  for(i in 1:n){\n",
    "    bin[[\"binValues\"]][[i]]<-NA\n",
    "    bin[[\"nElement\"]][i]<-0\n",
    "  }\n",
    "  ## Add elements into suitable bins\n",
    "  bin <- addItem(V=V,bin=bin,maxValue=maxValue,n=n)\n",
    "  ## Bind all bins inot a single sorted vector\n",
    "  output <- bindSorted_vec(bin=bin,n=n)\n",
    "  return(output)\n",
    "}"
   ]
  },
  {
   "cell_type": "code",
   "execution_count": 28,
   "metadata": {},
   "outputs": [],
   "source": [
    "# add item to bin\n",
    "addItem=function(V,bin,maxValue,n){\n",
    "  for(i in 1:n){\n",
    "    val<-V[i]\n",
    "    ix<-ceiling((val*n)/maxValue)\n",
    "    if(is.na(bin[[\"binValues\"]][[ix]][1])){\n",
    "      bin[[\"binValues\"]][[ix]][1]<-val\n",
    "      bin[[\"nElement\"]][ix]<-1\n",
    "    } else\n",
    "    {\n",
    "      bin <- insertItem(val=val, ix=ix,bin=bin)\n",
    "    }\n",
    "  }\n",
    "  return(bin)\n",
    "}\n"
   ]
  },
  {
   "cell_type": "code",
   "execution_count": 30,
   "metadata": {},
   "outputs": [],
   "source": [
    "# insert a item into a bin ensuring sorting\n",
    "insertItem=function(val, ix,bin){\n",
    "  nElement<-bin[[\"nElement\"]][ix]\n",
    "  pos<-NULL\n",
    "  for(i in 1:nElement){\n",
    "    if(val<bin[[\"binValues\"]][[ix]][i]){\n",
    "      pos<-i\n",
    "    }\n",
    "  }\n",
    "  if(is.null(pos)){\n",
    "    bin[[\"binValues\"]][[ix]][nElement+1]<-val\n",
    "  } else if(pos==1) {\n",
    "    bin[[\"binValues\"]][[ix]]<-c(val, bin[[\"binValues\"]][[ix]][1])\n",
    "  } else\n",
    "  {\n",
    "    bin[[\"binValues\"]][[ix]]<-c(bin[[\"binValues\"]][[ix]][1:(pos-1)], val, bin[[\"binValues\"]][[ix]][pos:nElement])\n",
    "  }\n",
    "  bin[[\"nElement\"]][ix]<-nElement+1\n",
    "  return(bin)\n",
    "}"
   ]
  },
  {
   "cell_type": "code",
   "execution_count": 31,
   "metadata": {},
   "outputs": [],
   "source": [
    "# bind the list into a sorted vector\n",
    "bindSorted_vec=function(bin,n){\n",
    "  output <- c()\n",
    "  currentIx<-1\n",
    "  for(i in 1:n){\n",
    "    if(!is.na(bin[[\"binValues\"]][[i]][1])){\n",
    "      nElement<-bin[[\"nElement\"]][i]\n",
    "      for(m in 1:nElement){\n",
    "        output[currentIx]<-bin[[\"binValues\"]][[i]][m]\n",
    "        currentIx<-currentIx+1\n",
    "      }\n",
    "    }\n",
    "  }\n",
    "  return(output)\n",
    "}"
   ]
  },
  {
   "cell_type": "code",
   "execution_count": 32,
   "metadata": {},
   "outputs": [
    {
     "data": {
      "text/html": [
       "<ol class=list-inline>\n",
       "\t<li>2</li>\n",
       "\t<li>8</li>\n",
       "\t<li>10</li>\n",
       "\t<li>12</li>\n",
       "\t<li>16</li>\n",
       "\t<li>20</li>\n",
       "\t<li>23</li>\n",
       "\t<li>27</li>\n",
       "\t<li>35</li>\n",
       "\t<li>41</li>\n",
       "\t<li>43</li>\n",
       "\t<li>55</li>\n",
       "\t<li>56</li>\n",
       "\t<li>65</li>\n",
       "\t<li>67</li>\n",
       "\t<li>88</li>\n",
       "</ol>\n"
      ],
      "text/latex": [
       "\\begin{enumerate*}\n",
       "\\item 2\n",
       "\\item 8\n",
       "\\item 10\n",
       "\\item 12\n",
       "\\item 16\n",
       "\\item 20\n",
       "\\item 23\n",
       "\\item 27\n",
       "\\item 35\n",
       "\\item 41\n",
       "\\item 43\n",
       "\\item 55\n",
       "\\item 56\n",
       "\\item 65\n",
       "\\item 67\n",
       "\\item 88\n",
       "\\end{enumerate*}\n"
      ],
      "text/markdown": [
       "1. 2\n",
       "2. 8\n",
       "3. 10\n",
       "4. 12\n",
       "5. 16\n",
       "6. 20\n",
       "7. 23\n",
       "8. 27\n",
       "9. 35\n",
       "10. 41\n",
       "11. 43\n",
       "12. 55\n",
       "13. 56\n",
       "14. 65\n",
       "15. 67\n",
       "16. 88\n",
       "\n",
       "\n"
      ],
      "text/plain": [
       " [1]  2  8 10 12 16 20 23 27 35 41 43 55 56 65 67 88"
      ]
     },
     "metadata": {},
     "output_type": "display_data"
    }
   ],
   "source": [
    "V<-c(20,12,65,8,10,16,43,35,23,88,2,56,41,27,67,55)\n",
    "n<-16\n",
    "maxValue<-88\n",
    "Bin_Sort(V=V,n=n,maxValue=maxValue)"
   ]
  },
  {
   "cell_type": "code",
   "execution_count": null,
   "metadata": {},
   "outputs": [],
   "source": []
  }
 ],
 "metadata": {
  "kernelspec": {
   "display_name": "R",
   "language": "R",
   "name": "ir"
  },
  "language_info": {
   "codemirror_mode": "r",
   "file_extension": ".r",
   "mimetype": "text/x-r-source",
   "name": "R",
   "pygments_lexer": "r",
   "version": "3.6.1"
  }
 },
 "nbformat": 4,
 "nbformat_minor": 4
}
