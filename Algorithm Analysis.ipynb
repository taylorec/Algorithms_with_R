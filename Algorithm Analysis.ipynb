{
 "cells": [
  {
   "cell_type": "markdown",
   "metadata": {},
   "source": [
    "### Memory management in R"
   ]
  },
  {
   "cell_type": "code",
   "execution_count": 5,
   "metadata": {},
   "outputs": [
    {
     "name": "stderr",
     "output_type": "stream",
     "text": [
      "Warning message:\n",
      "\"package 'pryr' was built under R version 3.6.3\"Registered S3 method overwritten by 'pryr':\n",
      "  method      from\n",
      "  print.bytes Rcpp\n"
     ]
    }
   ],
   "source": [
    "library(pryr)"
   ]
  },
  {
   "cell_type": "code",
   "execution_count": 7,
   "metadata": {},
   "outputs": [
    {
     "data": {
      "text/plain": [
       "56 B"
      ]
     },
     "metadata": {},
     "output_type": "display_data"
    }
   ],
   "source": [
    "object_size(5)    ## Memory allocated for a single numeric vector"
   ]
  },
  {
   "cell_type": "code",
   "execution_count": 8,
   "metadata": {},
   "outputs": [
    {
     "data": {
      "text/plain": [
       "112 B"
      ]
     },
     "metadata": {},
     "output_type": "display_data"
    }
   ],
   "source": [
    "object_size(\"R\")  ## Memory allocated for a single character vector"
   ]
  },
  {
   "cell_type": "code",
   "execution_count": 9,
   "metadata": {},
   "outputs": [
    {
     "data": {
      "text/plain": [
       "56 B"
      ]
     },
     "metadata": {},
     "output_type": "display_data"
    }
   ],
   "source": [
    "object_size(TRUE) ## Memory allocated for a single logical vector"
   ]
  },
  {
   "cell_type": "code",
   "execution_count": 10,
   "metadata": {},
   "outputs": [
    {
     "data": {
      "text/plain": [
       "64 B"
      ]
     },
     "metadata": {},
     "output_type": "display_data"
    }
   ],
   "source": [
    "object_size(1i)   ## Memory allocated for a single complex vector"
   ]
  },
  {
   "cell_type": "code",
   "execution_count": 11,
   "metadata": {},
   "outputs": [],
   "source": [
    "vec_length <- 0:60"
   ]
  },
  {
   "cell_type": "code",
   "execution_count": 12,
   "metadata": {},
   "outputs": [],
   "source": [
    "num_vec_size <- sapply(vec_length, function(x) object_size(seq(x))) # computes the memory requirement for each numeric vector from zero to 60 number of elements"
   ]
  },
  {
   "cell_type": "code",
   "execution_count": 13,
   "metadata": {},
   "outputs": [],
   "source": [
    "char_vec_size <- sapply(vec_length, function(x) object_size(rep(\"a\",x)))"
   ]
  },
  {
   "cell_type": "code",
   "execution_count": 14,
   "metadata": {},
   "outputs": [],
   "source": [
    "log_vec_size <- sapply(vec_length, function(x) object_size(rep(TRUE,x)))"
   ]
  },
  {
   "cell_type": "code",
   "execution_count": 15,
   "metadata": {},
   "outputs": [],
   "source": [
    "comp_vec_size <- sapply(vec_length, function(x) object_size(rep(\"2i\",x)))"
   ]
  },
  {
   "cell_type": "code",
   "execution_count": 25,
   "metadata": {},
   "outputs": [
    {
     "data": {
      "image/png": "[encoded data removed]",
      "text/plain": [
       "plot without title"
      ]
     },
     "metadata": {},
     "output_type": "display_data"
    }
   ],
   "source": [
    "par(mfrow=c(2,2))\n",
    "plot(num_vec_size ~ vec_length, xlab = \"Numeric seq vector\", ylab = \"Memory allocated (in bytes)\", type = \"n\")\n",
    "abline(h = (c(0,8,16,32,48,64,128)+40), col = \"grey\")\n",
    "lines(num_vec_size, type = \"S\")\n",
    "plot(char_vec_size ~ vec_length, xlab = \"Character seq vector\", ylab = \"Memory allocated (in bytes)\", type = \"n\")\n",
    "abline(h = (c(0,56,64,80,96,112,176)+40), col = \"grey\")\n",
    "lines(char_vec_size, type = \"S\")\n",
    "plot(log_vec_size ~ vec_length, xlab = \"Logical seq vector\", ylab = \"Memory allocated (in bytes)\", type = \"n\")\n",
    "abline(h = (c(0,8,16,32,48,64,128)+40), col = \"grey\")\n",
    "lines(log_vec_size, type = \"S\")\n",
    "plot(comp_vec_size ~ vec_length, xlab = \"Complex seq vector\", ylab = \"Memory allocated (in bytes)\", type = \"n\")\n",
    "abline(h = (c(0,56,64,80,96,112,176)+40), col = \"grey\")\n",
    "lines(comp_vec_size, type = \"S\")"
   ]
  },
  {
   "cell_type": "markdown",
   "metadata": {},
   "source": [
    "### System runtime in R"
   ]
  },
  {
   "cell_type": "code",
   "execution_count": 26,
   "metadata": {},
   "outputs": [],
   "source": [
    "# Aggregate function\n",
    "Agg <- aggregate(mpg~carb,data=mtcars,mean)"
   ]
  },
  {
   "cell_type": "code",
   "execution_count": 27,
   "metadata": {},
   "outputs": [],
   "source": [
    "## Plyr package\n",
    "library(plyr)\n",
    "DDply <- ddply( mtcars, .(carb),function(x) mean(x$mpg))"
   ]
  },
  {
   "cell_type": "code",
   "execution_count": 28,
   "metadata": {},
   "outputs": [
    {
     "name": "stderr",
     "output_type": "stream",
     "text": [
      "\n",
      "Attaching package: 'data.table'\n",
      "\n",
      "The following object is masked from 'package:pryr':\n",
      "\n",
      "    address\n",
      "\n"
     ]
    },
    {
     "data": {
      "text/html": [
       "<table>\n",
       "<thead><tr><th scope=col>carb</th><th scope=col>V1</th></tr></thead>\n",
       "<tbody>\n",
       "\t<tr><td>1       </td><td>25.34286</td></tr>\n",
       "\t<tr><td>2       </td><td>22.40000</td></tr>\n",
       "\t<tr><td>3       </td><td>16.30000</td></tr>\n",
       "\t<tr><td>4       </td><td>15.79000</td></tr>\n",
       "\t<tr><td>6       </td><td>19.70000</td></tr>\n",
       "\t<tr><td>8       </td><td>15.00000</td></tr>\n",
       "</tbody>\n",
       "</table>\n"
      ],
      "text/latex": [
       "\\begin{tabular}{r|ll}\n",
       " carb & V1\\\\\n",
       "\\hline\n",
       "\t 1        & 25.34286\\\\\n",
       "\t 2        & 22.40000\\\\\n",
       "\t 3        & 16.30000\\\\\n",
       "\t 4        & 15.79000\\\\\n",
       "\t 6        & 19.70000\\\\\n",
       "\t 8        & 15.00000\\\\\n",
       "\\end{tabular}\n"
      ],
      "text/markdown": [
       "\n",
       "| carb | V1 |\n",
       "|---|---|\n",
       "| 1        | 25.34286 |\n",
       "| 2        | 22.40000 |\n",
       "| 3        | 16.30000 |\n",
       "| 4        | 15.79000 |\n",
       "| 6        | 19.70000 |\n",
       "| 8        | 15.00000 |\n",
       "\n"
      ],
      "text/plain": [
       "  carb V1      \n",
       "1 1    25.34286\n",
       "2 2    22.40000\n",
       "3 3    16.30000\n",
       "4 4    15.79000\n",
       "5 6    19.70000\n",
       "6 8    15.00000"
      ]
     },
     "metadata": {},
     "output_type": "display_data"
    }
   ],
   "source": [
    "## Data.table format\n",
    "library(data.table)\n",
    "mtcars_tb <- data.table(mtcars)\n",
    "setkey(mtcars_tb,carb)\n",
    "mtcars_tb[,mean(mpg),by=carb]"
   ]
  },
  {
   "cell_type": "code",
   "execution_count": 29,
   "metadata": {},
   "outputs": [
    {
     "name": "stderr",
     "output_type": "stream",
     "text": [
      "\n",
      "Attaching package: 'dplyr'\n",
      "\n",
      "The following objects are masked from 'package:data.table':\n",
      "\n",
      "    between, first, last\n",
      "\n",
      "The following objects are masked from 'package:plyr':\n",
      "\n",
      "    arrange, count, desc, failwith, id, mutate, rename, summarise,\n",
      "    summarize\n",
      "\n",
      "The following objects are masked from 'package:stats':\n",
      "\n",
      "    filter, lag\n",
      "\n",
      "The following objects are masked from 'package:base':\n",
      "\n",
      "    intersect, setdiff, setequal, union\n",
      "\n"
     ]
    },
    {
     "data": {
      "text/html": [
       "<table>\n",
       "<thead><tr><th scope=col>carb</th><th scope=col>mean(mpg)</th></tr></thead>\n",
       "<tbody>\n",
       "\t<tr><td>1       </td><td>25.34286</td></tr>\n",
       "\t<tr><td>2       </td><td>22.40000</td></tr>\n",
       "\t<tr><td>3       </td><td>16.30000</td></tr>\n",
       "\t<tr><td>4       </td><td>15.79000</td></tr>\n",
       "\t<tr><td>6       </td><td>19.70000</td></tr>\n",
       "\t<tr><td>8       </td><td>15.00000</td></tr>\n",
       "</tbody>\n",
       "</table>\n"
      ],
      "text/latex": [
       "\\begin{tabular}{r|ll}\n",
       " carb & mean(mpg)\\\\\n",
       "\\hline\n",
       "\t 1        & 25.34286\\\\\n",
       "\t 2        & 22.40000\\\\\n",
       "\t 3        & 16.30000\\\\\n",
       "\t 4        & 15.79000\\\\\n",
       "\t 6        & 19.70000\\\\\n",
       "\t 8        & 15.00000\\\\\n",
       "\\end{tabular}\n"
      ],
      "text/markdown": [
       "\n",
       "| carb | mean(mpg) |\n",
       "|---|---|\n",
       "| 1        | 25.34286 |\n",
       "| 2        | 22.40000 |\n",
       "| 3        | 16.30000 |\n",
       "| 4        | 15.79000 |\n",
       "| 6        | 19.70000 |\n",
       "| 8        | 15.00000 |\n",
       "\n"
      ],
      "text/plain": [
       "  carb mean(mpg)\n",
       "1 1    25.34286 \n",
       "2 2    22.40000 \n",
       "3 3    16.30000 \n",
       "4 4    15.79000 \n",
       "5 6    19.70000 \n",
       "6 8    15.00000 "
      ]
     },
     "metadata": {},
     "output_type": "display_data"
    }
   ],
   "source": [
    "## Summarize function\n",
    "library(dplyr)\n",
    "summarize(group_by(mtcars, carb), mean(mpg))"
   ]
  },
  {
   "cell_type": "code",
   "execution_count": 32,
   "metadata": {},
   "outputs": [
    {
     "name": "stderr",
     "output_type": "stream",
     "text": [
      "Warning message:\n",
      "\"package 'microbenchmark' was built under R version 3.6.3\""
     ]
    }
   ],
   "source": [
    "library(microbenchmark)\n",
    "MB_res <- microbenchmark(\n",
    "  Aggregate_func=aggregate(mpg~carb,data=mtcars,mean),\n",
    "  Ddply_func=ddply( mtcars, .(carb),function(x) mean(x$mpg)),\n",
    "  Data_table_func = mtcars_tb[,mean(mpg),by=carb],\n",
    "  Group_by_func = summarize(group_by(mtcars, carb), mean(mpg)),\n",
    "  times=1000\n",
    ")"
   ]
  },
  {
   "cell_type": "code",
   "execution_count": 33,
   "metadata": {},
   "outputs": [
    {
     "data": {
      "text/html": [
       "<table>\n",
       "<thead><tr><th scope=col>expr</th><th scope=col>time</th></tr></thead>\n",
       "<tbody>\n",
       "\t<tr><td>Ddply_func     </td><td> 6595104       </td></tr>\n",
       "\t<tr><td>Data_table_func</td><td>10111963       </td></tr>\n",
       "\t<tr><td>Aggregate_func </td><td> 2587834       </td></tr>\n",
       "\t<tr><td>Aggregate_func </td><td> 3264889       </td></tr>\n",
       "\t<tr><td>Data_table_func</td><td> 3325549       </td></tr>\n",
       "\t<tr><td>Group_by_func  </td><td> 1587417       </td></tr>\n",
       "\t<tr><td>Group_by_func  </td><td> 2329331       </td></tr>\n",
       "\t<tr><td>Aggregate_func </td><td> 2617231       </td></tr>\n",
       "\t<tr><td>Data_table_func</td><td> 6046368       </td></tr>\n",
       "\t<tr><td>Group_by_func  </td><td> 1562220       </td></tr>\n",
       "\t<tr><td>Group_by_func  </td><td> 1516025       </td></tr>\n",
       "\t<tr><td>Data_table_func</td><td> 1537955       </td></tr>\n",
       "\t<tr><td>Group_by_func  </td><td> 1622879       </td></tr>\n",
       "\t<tr><td>Aggregate_func </td><td> 2606499       </td></tr>\n",
       "\t<tr><td>Data_table_func</td><td> 1476829       </td></tr>\n",
       "\t<tr><td>Aggregate_func </td><td> 2593901       </td></tr>\n",
       "\t<tr><td>Ddply_func     </td><td>12531350       </td></tr>\n",
       "\t<tr><td>Ddply_func     </td><td> 3471132       </td></tr>\n",
       "\t<tr><td>Ddply_func     </td><td> 3405806       </td></tr>\n",
       "\t<tr><td>Data_table_func</td><td> 1382107       </td></tr>\n",
       "\t<tr><td>Data_table_func</td><td> 1299517       </td></tr>\n",
       "\t<tr><td>Aggregate_func </td><td> 2778213       </td></tr>\n",
       "\t<tr><td>Group_by_func  </td><td> 1542622       </td></tr>\n",
       "\t<tr><td>Aggregate_func </td><td> 2584102       </td></tr>\n",
       "\t<tr><td>Aggregate_func </td><td> 2551439       </td></tr>\n",
       "\t<tr><td>Aggregate_func </td><td> 2563570       </td></tr>\n",
       "\t<tr><td>Ddply_func     </td><td> 3469265       </td></tr>\n",
       "\t<tr><td>Data_table_func</td><td> 1447433       </td></tr>\n",
       "\t<tr><td>Group_by_func  </td><td> 1539356       </td></tr>\n",
       "\t<tr><td>Ddply_func     </td><td> 3469732       </td></tr>\n",
       "\t<tr><td>...</td><td>...</td></tr>\n",
       "\t<tr><td>Aggregate_func </td><td>3074045        </td></tr>\n",
       "\t<tr><td>Ddply_func     </td><td>6670229        </td></tr>\n",
       "\t<tr><td>Group_by_func  </td><td>1574818        </td></tr>\n",
       "\t<tr><td>Aggregate_func </td><td>2644761        </td></tr>\n",
       "\t<tr><td>Data_table_func</td><td>2721752        </td></tr>\n",
       "\t<tr><td>Ddply_func     </td><td>4459884        </td></tr>\n",
       "\t<tr><td>Group_by_func  </td><td>3854688        </td></tr>\n",
       "\t<tr><td>Group_by_func  </td><td>1580418        </td></tr>\n",
       "\t<tr><td>Group_by_func  </td><td>1541222        </td></tr>\n",
       "\t<tr><td>Aggregate_func </td><td>3551389        </td></tr>\n",
       "\t<tr><td>Ddply_func     </td><td>3609249        </td></tr>\n",
       "\t<tr><td>Group_by_func  </td><td>1571552        </td></tr>\n",
       "\t<tr><td>Group_by_func  </td><td>1783394        </td></tr>\n",
       "\t<tr><td>Group_by_func  </td><td>1648076        </td></tr>\n",
       "\t<tr><td>Ddply_func     </td><td>7847026        </td></tr>\n",
       "\t<tr><td>Ddply_func     </td><td>3524325        </td></tr>\n",
       "\t<tr><td>Ddply_func     </td><td>3435670        </td></tr>\n",
       "\t<tr><td>Aggregate_func </td><td>6002506        </td></tr>\n",
       "\t<tr><td>Aggregate_func </td><td>2777279        </td></tr>\n",
       "\t<tr><td>Group_by_func  </td><td>1557086        </td></tr>\n",
       "\t<tr><td>Ddply_func     </td><td>4470617        </td></tr>\n",
       "\t<tr><td>Aggregate_func </td><td>3151036        </td></tr>\n",
       "\t<tr><td>Data_table_func</td><td>1377441        </td></tr>\n",
       "\t<tr><td>Data_table_func</td><td>3567721        </td></tr>\n",
       "\t<tr><td>Group_by_func  </td><td>2473981        </td></tr>\n",
       "\t<tr><td>Aggregate_func </td><td>2640562        </td></tr>\n",
       "\t<tr><td>Ddply_func     </td><td>3546256        </td></tr>\n",
       "\t<tr><td>Data_table_func</td><td>9662616        </td></tr>\n",
       "\t<tr><td>Ddply_func     </td><td>3603650        </td></tr>\n",
       "\t<tr><td>Ddply_func     </td><td>4378227        </td></tr>\n",
       "</tbody>\n",
       "</table>\n"
      ],
      "text/latex": [
       "\\begin{tabular}{r|ll}\n",
       " expr & time\\\\\n",
       "\\hline\n",
       "\t Ddply\\_func      &  6595104         \\\\\n",
       "\t Data\\_table\\_func & 10111963           \\\\\n",
       "\t Aggregate\\_func  &  2587834         \\\\\n",
       "\t Aggregate\\_func  &  3264889         \\\\\n",
       "\t Data\\_table\\_func &  3325549           \\\\\n",
       "\t Group\\_by\\_func   &  1587417           \\\\\n",
       "\t Group\\_by\\_func   &  2329331           \\\\\n",
       "\t Aggregate\\_func  &  2617231         \\\\\n",
       "\t Data\\_table\\_func &  6046368           \\\\\n",
       "\t Group\\_by\\_func   &  1562220           \\\\\n",
       "\t Group\\_by\\_func   &  1516025           \\\\\n",
       "\t Data\\_table\\_func &  1537955           \\\\\n",
       "\t Group\\_by\\_func   &  1622879           \\\\\n",
       "\t Aggregate\\_func  &  2606499         \\\\\n",
       "\t Data\\_table\\_func &  1476829           \\\\\n",
       "\t Aggregate\\_func  &  2593901         \\\\\n",
       "\t Ddply\\_func      & 12531350         \\\\\n",
       "\t Ddply\\_func      &  3471132         \\\\\n",
       "\t Ddply\\_func      &  3405806         \\\\\n",
       "\t Data\\_table\\_func &  1382107           \\\\\n",
       "\t Data\\_table\\_func &  1299517           \\\\\n",
       "\t Aggregate\\_func  &  2778213         \\\\\n",
       "\t Group\\_by\\_func   &  1542622           \\\\\n",
       "\t Aggregate\\_func  &  2584102         \\\\\n",
       "\t Aggregate\\_func  &  2551439         \\\\\n",
       "\t Aggregate\\_func  &  2563570         \\\\\n",
       "\t Ddply\\_func      &  3469265         \\\\\n",
       "\t Data\\_table\\_func &  1447433           \\\\\n",
       "\t Group\\_by\\_func   &  1539356           \\\\\n",
       "\t Ddply\\_func      &  3469732         \\\\\n",
       "\t ... & ...\\\\\n",
       "\t Aggregate\\_func  & 3074045          \\\\\n",
       "\t Ddply\\_func      & 6670229          \\\\\n",
       "\t Group\\_by\\_func   & 1574818            \\\\\n",
       "\t Aggregate\\_func  & 2644761          \\\\\n",
       "\t Data\\_table\\_func & 2721752            \\\\\n",
       "\t Ddply\\_func      & 4459884          \\\\\n",
       "\t Group\\_by\\_func   & 3854688            \\\\\n",
       "\t Group\\_by\\_func   & 1580418            \\\\\n",
       "\t Group\\_by\\_func   & 1541222            \\\\\n",
       "\t Aggregate\\_func  & 3551389          \\\\\n",
       "\t Ddply\\_func      & 3609249          \\\\\n",
       "\t Group\\_by\\_func   & 1571552            \\\\\n",
       "\t Group\\_by\\_func   & 1783394            \\\\\n",
       "\t Group\\_by\\_func   & 1648076            \\\\\n",
       "\t Ddply\\_func      & 7847026          \\\\\n",
       "\t Ddply\\_func      & 3524325          \\\\\n",
       "\t Ddply\\_func      & 3435670          \\\\\n",
       "\t Aggregate\\_func  & 6002506          \\\\\n",
       "\t Aggregate\\_func  & 2777279          \\\\\n",
       "\t Group\\_by\\_func   & 1557086            \\\\\n",
       "\t Ddply\\_func      & 4470617          \\\\\n",
       "\t Aggregate\\_func  & 3151036          \\\\\n",
       "\t Data\\_table\\_func & 1377441            \\\\\n",
       "\t Data\\_table\\_func & 3567721            \\\\\n",
       "\t Group\\_by\\_func   & 2473981            \\\\\n",
       "\t Aggregate\\_func  & 2640562          \\\\\n",
       "\t Ddply\\_func      & 3546256          \\\\\n",
       "\t Data\\_table\\_func & 9662616            \\\\\n",
       "\t Ddply\\_func      & 3603650          \\\\\n",
       "\t Ddply\\_func      & 4378227          \\\\\n",
       "\\end{tabular}\n"
      ],
      "text/markdown": [
       "\n",
       "| expr | time |\n",
       "|---|---|\n",
       "| Ddply_func      |  6595104        |\n",
       "| Data_table_func | 10111963        |\n",
       "| Aggregate_func  |  2587834        |\n",
       "| Aggregate_func  |  3264889        |\n",
       "| Data_table_func |  3325549        |\n",
       "| Group_by_func   |  1587417        |\n",
       "| Group_by_func   |  2329331        |\n",
       "| Aggregate_func  |  2617231        |\n",
       "| Data_table_func |  6046368        |\n",
       "| Group_by_func   |  1562220        |\n",
       "| Group_by_func   |  1516025        |\n",
       "| Data_table_func |  1537955        |\n",
       "| Group_by_func   |  1622879        |\n",
       "| Aggregate_func  |  2606499        |\n",
       "| Data_table_func |  1476829        |\n",
       "| Aggregate_func  |  2593901        |\n",
       "| Ddply_func      | 12531350        |\n",
       "| Ddply_func      |  3471132        |\n",
       "| Ddply_func      |  3405806        |\n",
       "| Data_table_func |  1382107        |\n",
       "| Data_table_func |  1299517        |\n",
       "| Aggregate_func  |  2778213        |\n",
       "| Group_by_func   |  1542622        |\n",
       "| Aggregate_func  |  2584102        |\n",
       "| Aggregate_func  |  2551439        |\n",
       "| Aggregate_func  |  2563570        |\n",
       "| Ddply_func      |  3469265        |\n",
       "| Data_table_func |  1447433        |\n",
       "| Group_by_func   |  1539356        |\n",
       "| Ddply_func      |  3469732        |\n",
       "| ... | ... |\n",
       "| Aggregate_func  | 3074045         |\n",
       "| Ddply_func      | 6670229         |\n",
       "| Group_by_func   | 1574818         |\n",
       "| Aggregate_func  | 2644761         |\n",
       "| Data_table_func | 2721752         |\n",
       "| Ddply_func      | 4459884         |\n",
       "| Group_by_func   | 3854688         |\n",
       "| Group_by_func   | 1580418         |\n",
       "| Group_by_func   | 1541222         |\n",
       "| Aggregate_func  | 3551389         |\n",
       "| Ddply_func      | 3609249         |\n",
       "| Group_by_func   | 1571552         |\n",
       "| Group_by_func   | 1783394         |\n",
       "| Group_by_func   | 1648076         |\n",
       "| Ddply_func      | 7847026         |\n",
       "| Ddply_func      | 3524325         |\n",
       "| Ddply_func      | 3435670         |\n",
       "| Aggregate_func  | 6002506         |\n",
       "| Aggregate_func  | 2777279         |\n",
       "| Group_by_func   | 1557086         |\n",
       "| Ddply_func      | 4470617         |\n",
       "| Aggregate_func  | 3151036         |\n",
       "| Data_table_func | 1377441         |\n",
       "| Data_table_func | 3567721         |\n",
       "| Group_by_func   | 2473981         |\n",
       "| Aggregate_func  | 2640562         |\n",
       "| Ddply_func      | 3546256         |\n",
       "| Data_table_func | 9662616         |\n",
       "| Ddply_func      | 3603650         |\n",
       "| Ddply_func      | 4378227         |\n",
       "\n"
      ],
      "text/plain": [
       "     expr            time    \n",
       "1    Ddply_func       6595104\n",
       "2    Data_table_func 10111963\n",
       "3    Aggregate_func   2587834\n",
       "4    Aggregate_func   3264889\n",
       "5    Data_table_func  3325549\n",
       "6    Group_by_func    1587417\n",
       "7    Group_by_func    2329331\n",
       "8    Aggregate_func   2617231\n",
       "9    Data_table_func  6046368\n",
       "10   Group_by_func    1562220\n",
       "11   Group_by_func    1516025\n",
       "12   Data_table_func  1537955\n",
       "13   Group_by_func    1622879\n",
       "14   Aggregate_func   2606499\n",
       "15   Data_table_func  1476829\n",
       "16   Aggregate_func   2593901\n",
       "17   Ddply_func      12531350\n",
       "18   Ddply_func       3471132\n",
       "19   Ddply_func       3405806\n",
       "20   Data_table_func  1382107\n",
       "21   Data_table_func  1299517\n",
       "22   Aggregate_func   2778213\n",
       "23   Group_by_func    1542622\n",
       "24   Aggregate_func   2584102\n",
       "25   Aggregate_func   2551439\n",
       "26   Aggregate_func   2563570\n",
       "27   Ddply_func       3469265\n",
       "28   Data_table_func  1447433\n",
       "29   Group_by_func    1539356\n",
       "30   Ddply_func       3469732\n",
       "...  ...             ...     \n",
       "3971 Aggregate_func  3074045 \n",
       "3972 Ddply_func      6670229 \n",
       "3973 Group_by_func   1574818 \n",
       "3974 Aggregate_func  2644761 \n",
       "3975 Data_table_func 2721752 \n",
       "3976 Ddply_func      4459884 \n",
       "3977 Group_by_func   3854688 \n",
       "3978 Group_by_func   1580418 \n",
       "3979 Group_by_func   1541222 \n",
       "3980 Aggregate_func  3551389 \n",
       "3981 Ddply_func      3609249 \n",
       "3982 Group_by_func   1571552 \n",
       "3983 Group_by_func   1783394 \n",
       "3984 Group_by_func   1648076 \n",
       "3985 Ddply_func      7847026 \n",
       "3986 Ddply_func      3524325 \n",
       "3987 Ddply_func      3435670 \n",
       "3988 Aggregate_func  6002506 \n",
       "3989 Aggregate_func  2777279 \n",
       "3990 Group_by_func   1557086 \n",
       "3991 Ddply_func      4470617 \n",
       "3992 Aggregate_func  3151036 \n",
       "3993 Data_table_func 1377441 \n",
       "3994 Data_table_func 3567721 \n",
       "3995 Group_by_func   2473981 \n",
       "3996 Aggregate_func  2640562 \n",
       "3997 Ddply_func      3546256 \n",
       "3998 Data_table_func 9662616 \n",
       "3999 Ddply_func      3603650 \n",
       "4000 Ddply_func      4378227 "
      ]
     },
     "metadata": {},
     "output_type": "display_data"
    }
   ],
   "source": [
    "MB_res"
   ]
  },
  {
   "cell_type": "code",
   "execution_count": 34,
   "metadata": {},
   "outputs": [
    {
     "name": "stderr",
     "output_type": "stream",
     "text": [
      "Registered S3 methods overwritten by 'ggplot2':\n",
      "  method         from \n",
      "  [.quosures     rlang\n",
      "  c.quosures     rlang\n",
      "  print.quosures rlang\n",
      "Coordinate system already present. Adding new coordinate system, which will replace the existing one.\n"
     ]
    },
    {
     "data": {
      "image/png": "[encoded data removed]",
      "text/plain": [
       "plot without title"
      ]
     },
     "metadata": {},
     "output_type": "display_data"
    }
   ],
   "source": [
    "library(ggplot2)\n",
    "autoplot(MB_res)"
   ]
  },
  {
   "cell_type": "markdown",
   "metadata": {},
   "source": [
    "### Classifying algorithms as best, worst, and average case \n",
    "* Best case: A best case is one which requires the least running time. For example-a vector with all elements arranged in increasing order requires the least amount of time for sorting.\n",
    "* Worst case: A worst case is one which requires the maximum possible runtime to complete sorting a vector. For example-a vector with all the elements sorted in decreasing order requires the most amount of time for sorting.\n",
    "* Average case: An average case is one which requires an intermediate time to complete sorting a vector. For example-a vector with half elements sorted in increasing order and the remaining in decreasing order. An average case is assessed using multiple vectors of differently arranged elements."
   ]
  },
  {
   "cell_type": "markdown",
   "metadata": {},
   "source": [
    "### Algorithm asymptotic analysis\n",
    "\n",
    "* Constant: $O(1)$\n",
    "* Linear: $O(n)$\n",
    "* Quadratic: $O(2^n)$\n",
    "* $i^{th}$ order: $O(n^i)$\n",
    "* Logarithmic: $O(log_2n)$\n",
    "* $n log_2(n)$: $O(n log_2n)$\n",
    "* Polynomial of order $i$: $n^{O(i)}$\n",
    "* Exponential: $2^{O(n)}$ OR $O(2^n)$"
   ]
  },
  {
   "cell_type": "markdown",
   "metadata": {},
   "source": [
    "### Classifying rules for two algebraic growth rate functions f(n) and g(n) are evaluated using the limit theorem\n",
    "* $ \\lim_{n\\to \\infty} \\frac{f(n)}{g(n)}$ = $ \\frac {\\lim_{n\\to \\infty} f(n)} {\\lim_{n\\to \\infty} g(n)} $\n",
    "* The following three scenarios are used to classify f(n) and g(n):\n",
    "> * if limit tends to infinity: then, $f(n)$ has faster growth rate than $g(n)$\n",
    "> * if limit tends to zero: then, $f(n)$ has slower growth rate than $g(n)$\n",
    "> * if limit tends to a constant greater than zero: then, $f(n)$ has a comparable growth rate as $g(n)$"
   ]
  },
  {
   "cell_type": "markdown",
   "metadata": {},
   "source": [
    "### Computation evaluation of a program"
   ]
  },
  {
   "cell_type": "markdown",
   "metadata": {},
   "source": [
    "Component 1 - Assignment operator: $ \\theta (1) $"
   ]
  },
  {
   "cell_type": "code",
   "execution_count": 35,
   "metadata": {},
   "outputs": [],
   "source": [
    "int_Vector <- 0:60"
   ]
  },
  {
   "cell_type": "markdown",
   "metadata": {},
   "source": [
    "Component 2 - Simple loop: $\\theta(n)$"
   ]
  },
  {
   "cell_type": "code",
   "execution_count": 38,
   "metadata": {},
   "outputs": [],
   "source": [
    "a <- 0\n",
    "n <- 100\n",
    "for(i in 1:n) a <- a + i"
   ]
  },
  {
   "cell_type": "markdown",
   "metadata": {},
   "source": [
    "Component 3 - Complex loop: $ \\theta(On^2) $"
   ]
  },
  {
   "cell_type": "code",
   "execution_count": 39,
   "metadata": {},
   "outputs": [],
   "source": [
    "a <- 1\n",
    "i <- 1\n",
    "b <- list()\n",
    "while(i<=n )\n",
    "{\n",
    "a <- a + i\n",
    "i<- i+1\n",
    "}\n",
    "for(j in 1:i)\n",
    "for(k in 1:i)\n",
    "{\n",
    "  b[[j]] <- a+j*k\n",
    "}"
   ]
  },
  {
   "cell_type": "markdown",
   "metadata": {},
   "source": [
    "Component 4 - Loops with conditional statements: $ \\theta(On^2) $"
   ]
  },
  {
   "cell_type": "code",
   "execution_count": 40,
   "metadata": {},
   "outputs": [],
   "source": [
    "a <- 1\n",
    "for(i in 1:n) {\n",
    "if(i <= n/2) {\n",
    "for(j in 1:i)\n",
    "a <- a+i\n",
    "}else{\n",
    "a <- a*i\n",
    "}\n",
    "}"
   ]
  },
  {
   "cell_type": "markdown",
   "metadata": {},
   "source": [
    "Component 5 - Recursive statements: $ \\theta (1) $"
   ]
  },
  {
   "cell_type": "code",
   "execution_count": 41,
   "metadata": {},
   "outputs": [],
   "source": [
    "fact_n <- 1\n",
    "for(i in 2:n) {\n",
    "fact_n <- fact_n * i\n",
    "}"
   ]
  },
  {
   "cell_type": "code",
   "execution_count": null,
   "metadata": {},
   "outputs": [],
   "source": []
  }
 ],
 "metadata": {
  "kernelspec": {
   "display_name": "R",
   "language": "R",
   "name": "ir"
  },
  "language_info": {
   "codemirror_mode": "r",
   "file_extension": ".r",
   "mimetype": "text/x-r-source",
   "name": "R",
   "pygments_lexer": "r",
   "version": "3.6.1"
  }
 },
 "nbformat": 4,
 "nbformat_minor": 4
}
