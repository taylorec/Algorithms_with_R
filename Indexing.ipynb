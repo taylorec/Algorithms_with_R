{
 "cells": [
  {
   "cell_type": "markdown",
   "metadata": {},
   "source": [
    "##### Tree based Indexing : BST node structure\n",
    "\n",
    "* funtion runtime: $ \\theta(\\log(n)) $ "
   ]
  },
  {
   "cell_type": "code",
   "execution_count": 1,
   "metadata": {},
   "outputs": [],
   "source": [
    "bstnode <- function(key, value) {\n",
    "  node <- new.env(hash = FALSE, parent = emptyenv())\n",
    "  node$key <- key  \t# Node key\n",
    "  node$value <- value\t\t# Node Value\n",
    "  node$left <- NULL\t\t# left children key\n",
    "  node$right <- NULL\t\t# Right children key\n",
    "  class(node) <- \"bstnode\"\n",
    "  return(node)\n",
    "}"
   ]
  },
  {
   "cell_type": "markdown",
   "metadata": {},
   "source": [
    "##### 2-3 Tree"
   ]
  },
  {
   "cell_type": "code",
   "execution_count": 2,
   "metadata": {},
   "outputs": [],
   "source": [
    "tttnode <- function(lkey=NULL, lvalue=NULL, rkey=NULL, rvalue=NULL) {\n",
    "  node <- new.env(hash = FALSE, parent = emptyenv())\n",
    "  node$lkey <- lkey  \t# left Node key\n",
    "  node$lvalue <- lvalue\t\t# Node Value\n",
    "  node$rkey <- rkey\t\t# right Node key\n",
    "  node$rvalue <- rvalue\t\t# right Node Value\n",
    "  node$left <- NULL\t\t# left children key\n",
    "  node$center <- NULL\t\t# left children key\n",
    "  node$right <- NULL\t\t# Right children key\n",
    "  class(node) <- \"tttnode\"\n",
    "  return(node)\n",
    "}"
   ]
  },
  {
   "cell_type": "code",
   "execution_count": 3,
   "metadata": {},
   "outputs": [],
   "source": [
    "extttree <- tttnode(70, 70)"
   ]
  },
  {
   "cell_type": "code",
   "execution_count": 4,
   "metadata": {},
   "outputs": [
    {
     "data": {
      "text/plain": [
       "<environment: 0x000000000df03e70>\n",
       "attr(,\"class\")\n",
       "[1] \"tttnode\""
      ]
     },
     "metadata": {},
     "output_type": "display_data"
    }
   ],
   "source": [
    "extttree"
   ]
  },
  {
   "cell_type": "code",
   "execution_count": 5,
   "metadata": {},
   "outputs": [],
   "source": [
    "# Function to check if node is empty\n",
    "check_empty<-function(node){\n",
    "  ifelse((is.null(node$lkey) & is.null(node$rkey)), T, F)\n",
    "}"
   ]
  },
  {
   "cell_type": "code",
   "execution_count": 6,
   "metadata": {},
   "outputs": [],
   "source": [
    "# Function to insert if the node has empty space\n",
    "leaf_insert<-function(node, key, val){\n",
    "  if(check_empty(node)) return(tttnode(lkey=key, lvalue=val))\n",
    "  if(is.null(node$rkey)){\n",
    "    if(key>node$lkey){\n",
    "      node$rkey<-key\n",
    "      node$rvalue<-val\n",
    "    } else\n",
    "    {\n",
    "      node$rkey<-node$lkey\n",
    "      node$rvalue<-node$lvalue\n",
    "      node$lkey<-key\n",
    "      node$lvalue<-val\n",
    "    }\n",
    "  } else\n",
    "  {\n",
    "    node$left<-tttnode(key, val)\n",
    "  }\n",
    "  return(node)\n",
    "} "
   ]
  },
  {
   "cell_type": "code",
   "execution_count": 7,
   "metadata": {},
   "outputs": [],
   "source": [
    "ttinsert<-function(node=NULL, key, val){\n",
    "  if(check_empty(node)) return(tttnode(lkey=key, lvalue=val))\n",
    "  if(is.null(node$left)) node<-leaf_insert(node, key, val)   \n",
    "  ## Add element to internal nodes\n",
    "  if(key<node$lkey){\n",
    "    subtree = ttinsert(node$left, key, val)\n",
    "    if (identical(subtree, node$left))\n",
    "    {\n",
    "      return(node);\n",
    "    } else\n",
    "    {\n",
    "      assign(\"left\", subtree, envir = node)\n",
    "      return(node)\n",
    "    }\n",
    "  } else if(ifelse(is.null(node$rkey), T,  key<node$rkey)){\n",
    "    subtree = ttinsert(node$center, key, val)\n",
    "    if(identical(subtree, node$center)) \n",
    "    {\n",
    "      return(node)\n",
    "    } else\n",
    "    {\n",
    "      assign(\"center\", subtree, envir = node)\n",
    "      return(node)\n",
    "    }\n",
    "  } else\n",
    "  {\n",
    "    subtree = ttinsert(node$right, key, val)\n",
    "    if(identical(subtree, node$right)) {\n",
    "      return(node)\n",
    "    } else\n",
    "    {\n",
    "      assign(\"right\", subtree, envir = node)\n",
    "      return(node)\n",
    "    } \n",
    "  } \n",
    "} "
   ]
  },
  {
   "cell_type": "code",
   "execution_count": 8,
   "metadata": {},
   "outputs": [],
   "source": [
    "search_keys<-function(node, key){\n",
    "  if (is.null(node)) return(NULL) # empty node\n",
    "  if (node$lkey== key) return(node$lvalue)\n",
    "  if(!is.null(node$rkey) & node$rkey==key) return(node$rvalue)\n",
    "  if(key<node$lkey) {\n",
    "    sort_keys(node$left, key)\n",
    "  } else if(is.null(node$rkey)){\n",
    "    sort_keys(node$center, key)\n",
    "  } else if(key<node$rkey) {\n",
    "    sort_keys(node$center, key)\n",
    "  } else\n",
    "  {\n",
    "    sort_keys(node$right, key)\n",
    "  }\n",
    "}"
   ]
  },
  {
   "cell_type": "markdown",
   "metadata": {},
   "source": [
    "##### B+ Tree"
   ]
  },
  {
   "cell_type": "code",
   "execution_count": 9,
   "metadata": {},
   "outputs": [],
   "source": [
    "bplusnode<-function(node=NULL, key, val){\n",
    "  node <- new.env(hash = FALSE, parent = emptyenv())  \n",
    "  node$keys<-keys\n",
    "  node$child<-NULL\n",
    "  node$isleaf<-NULL \n",
    "  node$d<-NULL\n",
    "  class(node) <- \"bplustree\"\n",
    "  return(node)\n",
    "}"
   ]
  },
  {
   "cell_type": "code",
   "execution_count": 10,
   "metadata": {},
   "outputs": [],
   "source": [
    "dlinkchildNode <- function(val, prevnode=NULL, node=NULL) {\n",
    "  llist <- new.env(parent=create_emptyenv())\n",
    "  llist$prevnode <- prevnode\n",
    "  llist$element <- val\n",
    "  llist$nextnode <- node\n",
    "  class(llist) <- \" dlinkchildNode\"\n",
    "  llist\n",
    "}"
   ]
  },
  {
   "cell_type": "code",
   "execution_count": 11,
   "metadata": {},
   "outputs": [],
   "source": [
    "querry_search<-function(node, key1, Key2){\n",
    "  ## Function to get values within leaf node using link list\n",
    "  search_range<-function(child, key1, key2, val=NULL){\n",
    "    if(child$element>key1 & child$key2){\n",
    "      val<-c(val, child$element)\n",
    "      search_range(child$nextnode, key1, key2, val)\n",
    "    } else\n",
    "    {\n",
    "      return(val)\n",
    "    }\n",
    "  }\n",
    "  \n",
    "  if(key1>key2){\n",
    "    temp<-Key2\n",
    "    key2<-key1\n",
    "    key1<-temp\n",
    "  }\n",
    "  child<-search_lower_key(node, key1)   # search lower leaf\n",
    "  rangeVal<-search_range(child, key1, key2)   # Return Range \n",
    "  return(rangeVal)\n",
    "}"
   ]
  },
  {
   "cell_type": "code",
   "execution_count": null,
   "metadata": {},
   "outputs": [],
   "source": []
  }
 ],
 "metadata": {
  "kernelspec": {
   "display_name": "R",
   "language": "R",
   "name": "ir"
  },
  "language_info": {
   "codemirror_mode": "r",
   "file_extension": ".r",
   "mimetype": "text/x-r-source",
   "name": "R",
   "pygments_lexer": "r",
   "version": "3.6.1"
  }
 },
 "nbformat": 4,
 "nbformat_minor": 4
}
