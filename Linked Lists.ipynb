{
 "cells": [
  {
   "cell_type": "code",
   "execution_count": 20,
   "metadata": {},
   "outputs": [
    {
     "data": {
      "text/html": [
       "<ol class=list-inline>\n",
       "\t<li>a</li>\n",
       "\t<li>b</li>\n",
       "\t<li>c</li>\n",
       "\t<li>c</li>\n",
       "\t<li>a</li>\n",
       "\t<li>b</li>\n",
       "</ol>\n",
       "\n",
       "<details>\n",
       "\t<summary style=display:list-item;cursor:pointer>\n",
       "\t\t<strong>Levels</strong>:\n",
       "\t</summary>\n",
       "\t<ol class=list-inline>\n",
       "\t\t<li>'a'</li>\n",
       "\t\t<li>'b'</li>\n",
       "\t\t<li>'c'</li>\n",
       "\t</ol>\n",
       "</details>"
      ],
      "text/latex": [
       "\\begin{enumerate*}\n",
       "\\item a\n",
       "\\item b\n",
       "\\item c\n",
       "\\item c\n",
       "\\item a\n",
       "\\item b\n",
       "\\end{enumerate*}\n",
       "\n",
       "\\emph{Levels}: \\begin{enumerate*}\n",
       "\\item 'a'\n",
       "\\item 'b'\n",
       "\\item 'c'\n",
       "\\end{enumerate*}\n"
      ],
      "text/markdown": [
       "1. a\n",
       "2. b\n",
       "3. c\n",
       "4. c\n",
       "5. a\n",
       "6. b\n",
       "\n",
       "\n",
       "\n",
       "**Levels**: 1. 'a'\n",
       "2. 'b'\n",
       "3. 'c'\n",
       "\n",
       "\n"
      ],
      "text/plain": [
       "[1] a b c c a b\n",
       "Levels: a b c"
      ]
     },
     "metadata": {},
     "output_type": "display_data"
    },
    {
     "name": "stdout",
     "output_type": "stream",
     "text": [
      " Factor w/ 3 levels \"a\",\"b\",\"c\": 1 2 3 3 1 2\n"
     ]
    },
    {
     "data": {
      "text/html": [
       "<ol class=list-inline>\n",
       "\t<li>2</li>\n",
       "\t<li>3</li>\n",
       "\t<li>1</li>\n",
       "\t<li>1</li>\n",
       "\t<li>2</li>\n",
       "\t<li>3</li>\n",
       "</ol>\n",
       "\n",
       "<details>\n",
       "\t<summary style=display:list-item;cursor:pointer>\n",
       "\t\t<strong>Levels</strong>:\n",
       "\t</summary>\n",
       "\t<ol class=list-inline>\n",
       "\t\t<li>'1'</li>\n",
       "\t\t<li>'2'</li>\n",
       "\t\t<li>'3'</li>\n",
       "\t</ol>\n",
       "</details>"
      ],
      "text/latex": [
       "\\begin{enumerate*}\n",
       "\\item 2\n",
       "\\item 3\n",
       "\\item 1\n",
       "\\item 1\n",
       "\\item 2\n",
       "\\item 3\n",
       "\\end{enumerate*}\n",
       "\n",
       "\\emph{Levels}: \\begin{enumerate*}\n",
       "\\item '1'\n",
       "\\item '2'\n",
       "\\item '3'\n",
       "\\end{enumerate*}\n"
      ],
      "text/markdown": [
       "1. 2\n",
       "2. 3\n",
       "3. 1\n",
       "4. 1\n",
       "5. 2\n",
       "6. 3\n",
       "\n",
       "\n",
       "\n",
       "**Levels**: 1. '1'\n",
       "2. '2'\n",
       "3. '3'\n",
       "\n",
       "\n"
      ],
      "text/plain": [
       "[1] 2 3 1 1 2 3\n",
       "Levels: 1 2 3"
      ]
     },
     "metadata": {},
     "output_type": "display_data"
    },
    {
     "name": "stdout",
     "output_type": "stream",
     "text": [
      " Factor w/ 3 levels \"1\",\"2\",\"3\": 2 3 1 1 2 3\n"
     ]
    }
   ],
   "source": [
    "## Factor\n",
    "fact1 <- factor(c(\"a\",\"b\",\"c\",\"c\",\"a\",\"b\"))\n",
    "fact1\n",
    "str(fact1)\n",
    "fact2 <-factor(c(\"a\",\"b\",\"c\",\"c\",\"a\",\"b\"),labels=c(1,2,3),levels=c(\"c\",\"a\",\"b\"))\n",
    "fact2\n",
    "str(fact2)"
   ]
  },
  {
   "cell_type": "code",
   "execution_count": 21,
   "metadata": {},
   "outputs": [],
   "source": [
    "## Matrix\n",
    "## Numeric Matrix\n",
    "mat1 <- matrix(1:10,nrow=5)\n",
    "\n",
    "## Categorical Matrix\n",
    "mat2 <- matrix(c(\"ID\",\"Total\",1,10,2,45,3,26,4,8),ncol=2,byrow=T)"
   ]
  },
  {
   "cell_type": "code",
   "execution_count": 22,
   "metadata": {},
   "outputs": [
    {
     "data": {
      "text/html": [
       "<table>\n",
       "<tbody>\n",
       "\t<tr><td>1 </td><td> 6</td></tr>\n",
       "\t<tr><td>2 </td><td> 7</td></tr>\n",
       "\t<tr><td>3 </td><td> 8</td></tr>\n",
       "\t<tr><td>4 </td><td> 9</td></tr>\n",
       "\t<tr><td>5 </td><td>10</td></tr>\n",
       "</tbody>\n",
       "</table>\n"
      ],
      "text/latex": [
       "\\begin{tabular}{ll}\n",
       "\t 1  &  6\\\\\n",
       "\t 2  &  7\\\\\n",
       "\t 3  &  8\\\\\n",
       "\t 4  &  9\\\\\n",
       "\t 5  & 10\\\\\n",
       "\\end{tabular}\n"
      ],
      "text/markdown": [
       "\n",
       "| 1  |  6 |\n",
       "| 2  |  7 |\n",
       "| 3  |  8 |\n",
       "| 4  |  9 |\n",
       "| 5  | 10 |\n",
       "\n"
      ],
      "text/plain": [
       "     [,1] [,2]\n",
       "[1,] 1     6  \n",
       "[2,] 2     7  \n",
       "[3,] 3     8  \n",
       "[4,] 4     9  \n",
       "[5,] 5    10  "
      ]
     },
     "metadata": {},
     "output_type": "display_data"
    }
   ],
   "source": [
    "mat1"
   ]
  },
  {
   "cell_type": "code",
   "execution_count": 23,
   "metadata": {},
   "outputs": [
    {
     "data": {
      "text/html": [
       "'numeric'"
      ],
      "text/latex": [
       "'numeric'"
      ],
      "text/markdown": [
       "'numeric'"
      ],
      "text/plain": [
       "[1] \"numeric\""
      ]
     },
     "metadata": {},
     "output_type": "display_data"
    }
   ],
   "source": [
    "mode(mat1)"
   ]
  },
  {
   "cell_type": "code",
   "execution_count": 24,
   "metadata": {},
   "outputs": [
    {
     "data": {
      "text/html": [
       "<table>\n",
       "<tbody>\n",
       "\t<tr><td>ID   </td><td>Total</td></tr>\n",
       "\t<tr><td>1    </td><td>10   </td></tr>\n",
       "\t<tr><td>2    </td><td>45   </td></tr>\n",
       "\t<tr><td>3    </td><td>26   </td></tr>\n",
       "\t<tr><td>4    </td><td>8    </td></tr>\n",
       "</tbody>\n",
       "</table>\n"
      ],
      "text/latex": [
       "\\begin{tabular}{ll}\n",
       "\t ID    & Total\\\\\n",
       "\t 1     & 10   \\\\\n",
       "\t 2     & 45   \\\\\n",
       "\t 3     & 26   \\\\\n",
       "\t 4     & 8    \\\\\n",
       "\\end{tabular}\n"
      ],
      "text/markdown": [
       "\n",
       "| ID    | Total |\n",
       "| 1     | 10    |\n",
       "| 2     | 45    |\n",
       "| 3     | 26    |\n",
       "| 4     | 8     |\n",
       "\n"
      ],
      "text/plain": [
       "     [,1] [,2] \n",
       "[1,] ID   Total\n",
       "[2,] 1    10   \n",
       "[3,] 2    45   \n",
       "[4,] 3    26   \n",
       "[5,] 4    8    "
      ]
     },
     "metadata": {},
     "output_type": "display_data"
    }
   ],
   "source": [
    "mat2"
   ]
  },
  {
   "cell_type": "code",
   "execution_count": 25,
   "metadata": {},
   "outputs": [
    {
     "data": {
      "text/html": [
       "'character'"
      ],
      "text/latex": [
       "'character'"
      ],
      "text/markdown": [
       "'character'"
      ],
      "text/plain": [
       "[1] \"character\""
      ]
     },
     "metadata": {},
     "output_type": "display_data"
    }
   ],
   "source": [
    "mode(mat2)"
   ]
  },
  {
   "cell_type": "code",
   "execution_count": 26,
   "metadata": {},
   "outputs": [
    {
     "data": {
      "text/html": [
       "<ol class=list-inline>\n",
       "\t<li>1</li>\n",
       "\t<li>2</li>\n",
       "\t<li>3</li>\n",
       "\t<li>4</li>\n",
       "\t<li>5</li>\n",
       "\t<li>6</li>\n",
       "\t<li>7</li>\n",
       "\t<li>8</li>\n",
       "\t<li>9</li>\n",
       "\t<li>10</li>\n",
       "\t<li>11</li>\n",
       "\t<li>12</li>\n",
       "\t<li>13</li>\n",
       "\t<li>14</li>\n",
       "\t<li>15</li>\n",
       "\t<li>16</li>\n",
       "\t<li>17</li>\n",
       "\t<li>18</li>\n",
       "</ol>\n"
      ],
      "text/latex": [
       "\\begin{enumerate*}\n",
       "\\item 1\n",
       "\\item 2\n",
       "\\item 3\n",
       "\\item 4\n",
       "\\item 5\n",
       "\\item 6\n",
       "\\item 7\n",
       "\\item 8\n",
       "\\item 9\n",
       "\\item 10\n",
       "\\item 11\n",
       "\\item 12\n",
       "\\item 13\n",
       "\\item 14\n",
       "\\item 15\n",
       "\\item 16\n",
       "\\item 17\n",
       "\\item 18\n",
       "\\end{enumerate*}\n"
      ],
      "text/markdown": [
       "1. 1\n",
       "2. 2\n",
       "3. 3\n",
       "4. 4\n",
       "5. 5\n",
       "6. 6\n",
       "7. 7\n",
       "8. 8\n",
       "9. 9\n",
       "10. 10\n",
       "11. 11\n",
       "12. 12\n",
       "13. 13\n",
       "14. 14\n",
       "15. 15\n",
       "16. 16\n",
       "17. 17\n",
       "18. 18\n",
       "\n",
       "\n"
      ],
      "text/plain": [
       ", , 1\n",
       "\n",
       "     [,1] [,2]\n",
       "[1,]    1    4\n",
       "[2,]    2    5\n",
       "[3,]    3    6\n",
       "\n",
       ", , 2\n",
       "\n",
       "     [,1] [,2]\n",
       "[1,]    7   10\n",
       "[2,]    8   11\n",
       "[3,]    9   12\n",
       "\n",
       ", , 3\n",
       "\n",
       "     [,1] [,2]\n",
       "[1,]   13   16\n",
       "[2,]   14   17\n",
       "[3,]   15   18\n"
      ]
     },
     "metadata": {},
     "output_type": "display_data"
    }
   ],
   "source": [
    "## Array\n",
    "arr1 <- array(1:18,c(3,2,3)) \n",
    "arr1"
   ]
  },
  {
   "cell_type": "code",
   "execution_count": 27,
   "metadata": {},
   "outputs": [
    {
     "data": {
      "text/html": [
       "<table>\n",
       "<thead><tr><th scope=col>Int</th><th scope=col>Char</th><th scope=col>Log</th><th scope=col>Comp</th></tr></thead>\n",
       "<tbody>\n",
       "\t<tr><td>1    </td><td>a    </td><td> TRUE</td><td>0+1i </td></tr>\n",
       "\t<tr><td>2    </td><td>b    </td><td>FALSE</td><td>1+2i </td></tr>\n",
       "\t<tr><td>3    </td><td>c    </td><td>FALSE</td><td>5+0i </td></tr>\n",
       "\t<tr><td>4    </td><td>d    </td><td> TRUE</td><td>0+8i </td></tr>\n",
       "\t<tr><td>5    </td><td>e    </td><td>FALSE</td><td>4+0i </td></tr>\n",
       "</tbody>\n",
       "</table>\n"
      ],
      "text/latex": [
       "\\begin{tabular}{r|llll}\n",
       " Int & Char & Log & Comp\\\\\n",
       "\\hline\n",
       "\t 1     & a     &  TRUE & 0+1i \\\\\n",
       "\t 2     & b     & FALSE & 1+2i \\\\\n",
       "\t 3     & c     & FALSE & 5+0i \\\\\n",
       "\t 4     & d     &  TRUE & 0+8i \\\\\n",
       "\t 5     & e     & FALSE & 4+0i \\\\\n",
       "\\end{tabular}\n"
      ],
      "text/markdown": [
       "\n",
       "| Int | Char | Log | Comp |\n",
       "|---|---|---|---|\n",
       "| 1     | a     |  TRUE | 0+1i  |\n",
       "| 2     | b     | FALSE | 1+2i  |\n",
       "| 3     | c     | FALSE | 5+0i  |\n",
       "| 4     | d     |  TRUE | 0+8i  |\n",
       "| 5     | e     | FALSE | 4+0i  |\n",
       "\n"
      ],
      "text/plain": [
       "  Int Char Log   Comp\n",
       "1 1   a     TRUE 0+1i\n",
       "2 2   b    FALSE 1+2i\n",
       "3 3   c    FALSE 5+0i\n",
       "4 4   d     TRUE 0+8i\n",
       "5 5   e    FALSE 4+0i"
      ]
     },
     "metadata": {},
     "output_type": "display_data"
    }
   ],
   "source": [
    "##Data frames\n",
    "Int <- c(1:5); Char <- letters[1:5]; \n",
    "Log <- c(T,F,F,T,F); Comp <- c(1i,1+2i,5,8i,4)\n",
    "data.frame(Int,Char,Log,Comp)"
   ]
  },
  {
   "cell_type": "code",
   "execution_count": 28,
   "metadata": {},
   "outputs": [
    {
     "data": {
      "text/html": [
       "<dl>\n",
       "\t<dt>$age</dt>\n",
       "\t\t<dd><ol class=list-inline>\n",
       "\t<li>1</li>\n",
       "\t<li>2</li>\n",
       "\t<li>3</li>\n",
       "\t<li>4</li>\n",
       "\t<li>5</li>\n",
       "</ol>\n",
       "</dd>\n",
       "\t<dt>$name</dt>\n",
       "\t\t<dd><ol class=list-inline>\n",
       "\t<li>'John'</li>\n",
       "\t<li>'Neil'</li>\n",
       "\t<li>'Lisa'</li>\n",
       "\t<li>'Jane'</li>\n",
       "</ol>\n",
       "</dd>\n",
       "\t<dt>$mat</dt>\n",
       "\t\t<dd><table>\n",
       "<tbody>\n",
       "\t<tr><td>1</td><td>4</td><td>7</td></tr>\n",
       "\t<tr><td>2</td><td>5</td><td>8</td></tr>\n",
       "\t<tr><td>3</td><td>6</td><td>9</td></tr>\n",
       "</tbody>\n",
       "</table>\n",
       "</dd>\n",
       "\t<dt>$df</dt>\n",
       "\t\t<dd><table>\n",
       "<thead><tr><th scope=col>name</th><th scope=col>gender</th></tr></thead>\n",
       "<tbody>\n",
       "\t<tr><td>John</td><td>M   </td></tr>\n",
       "\t<tr><td>Neil</td><td>M   </td></tr>\n",
       "\t<tr><td>Lisa</td><td>F   </td></tr>\n",
       "\t<tr><td>Jane</td><td>F   </td></tr>\n",
       "</tbody>\n",
       "</table>\n",
       "</dd>\n",
       "\t<dt>$small_list</dt>\n",
       "\t\t<dd><dl>\n",
       "\t<dt>$city</dt>\n",
       "\t\t<dd><ol class=list-inline>\n",
       "\t<li>'Texas'</li>\n",
       "\t<li>'New Delhi'</li>\n",
       "\t<li>'London'</li>\n",
       "</ol>\n",
       "</dd>\n",
       "\t<dt>$country</dt>\n",
       "\t\t<dd><ol class=list-inline>\n",
       "\t<li>'USA'</li>\n",
       "\t<li>'INDIA'</li>\n",
       "\t<li>'UK'</li>\n",
       "</ol>\n",
       "</dd>\n",
       "</dl>\n",
       "</dd>\n",
       "</dl>\n"
      ],
      "text/latex": [
       "\\begin{description}\n",
       "\\item[\\$age] \\begin{enumerate*}\n",
       "\\item 1\n",
       "\\item 2\n",
       "\\item 3\n",
       "\\item 4\n",
       "\\item 5\n",
       "\\end{enumerate*}\n",
       "\n",
       "\\item[\\$name] \\begin{enumerate*}\n",
       "\\item 'John'\n",
       "\\item 'Neil'\n",
       "\\item 'Lisa'\n",
       "\\item 'Jane'\n",
       "\\end{enumerate*}\n",
       "\n",
       "\\item[\\$mat] \\begin{tabular}{lll}\n",
       "\t 1 & 4 & 7\\\\\n",
       "\t 2 & 5 & 8\\\\\n",
       "\t 3 & 6 & 9\\\\\n",
       "\\end{tabular}\n",
       "\n",
       "\\item[\\$df] \\begin{tabular}{r|ll}\n",
       " name & gender\\\\\n",
       "\\hline\n",
       "\t John & M   \\\\\n",
       "\t Neil & M   \\\\\n",
       "\t Lisa & F   \\\\\n",
       "\t Jane & F   \\\\\n",
       "\\end{tabular}\n",
       "\n",
       "\\item[\\$small\\_list] \\begin{description}\n",
       "\\item[\\$city] \\begin{enumerate*}\n",
       "\\item 'Texas'\n",
       "\\item 'New Delhi'\n",
       "\\item 'London'\n",
       "\\end{enumerate*}\n",
       "\n",
       "\\item[\\$country] \\begin{enumerate*}\n",
       "\\item 'USA'\n",
       "\\item 'INDIA'\n",
       "\\item 'UK'\n",
       "\\end{enumerate*}\n",
       "\n",
       "\\end{description}\n",
       "\n",
       "\\end{description}\n"
      ],
      "text/markdown": [
       "$age\n",
       ":   1. 1\n",
       "2. 2\n",
       "3. 3\n",
       "4. 4\n",
       "5. 5\n",
       "\n",
       "\n",
       "\n",
       "$name\n",
       ":   1. 'John'\n",
       "2. 'Neil'\n",
       "3. 'Lisa'\n",
       "4. 'Jane'\n",
       "\n",
       "\n",
       "\n",
       "$mat\n",
       ":   \n",
       "| 1 | 4 | 7 |\n",
       "| 2 | 5 | 8 |\n",
       "| 3 | 6 | 9 |\n",
       "\n",
       "\n",
       "$df\n",
       ":   \n",
       "| name | gender |\n",
       "|---|---|\n",
       "| John | M    |\n",
       "| Neil | M    |\n",
       "| Lisa | F    |\n",
       "| Jane | F    |\n",
       "\n",
       "\n",
       "$small_list\n",
       ":   $city\n",
       ":   1. 'Texas'\n",
       "2. 'New Delhi'\n",
       "3. 'London'\n",
       "\n",
       "\n",
       "\n",
       "$country\n",
       ":   1. 'USA'\n",
       "2. 'INDIA'\n",
       "3. 'UK'\n",
       "\n",
       "\n",
       "\n",
       "\n",
       "\n",
       "\n",
       "\n",
       "\n"
      ],
      "text/plain": [
       "$age\n",
       "[1] 1 2 3 4 5\n",
       "\n",
       "$name\n",
       "[1] \"John\" \"Neil\" \"Lisa\" \"Jane\"\n",
       "\n",
       "$mat\n",
       "     [,1] [,2] [,3]\n",
       "[1,]    1    4    7\n",
       "[2,]    2    5    8\n",
       "[3,]    3    6    9\n",
       "\n",
       "$df\n",
       "  name gender\n",
       "1 John      M\n",
       "2 Neil      M\n",
       "3 Lisa      F\n",
       "4 Jane      F\n",
       "\n",
       "$small_list\n",
       "$small_list$city\n",
       "[1] \"Texas\"     \"New Delhi\" \"London\"   \n",
       "\n",
       "$small_list$country\n",
       "[1] \"USA\"   \"INDIA\" \"UK\"   \n",
       "\n"
      ]
     },
     "metadata": {},
     "output_type": "display_data"
    }
   ],
   "source": [
    "## List\n",
    "(list1 <- list(age = c(1:5), #numeric vector\n",
    "                          name = c(\"John\",\"Neil\",\"Lisa\",\"Jane\"), #character vector \n",
    "                          mat = matrix(1:9,nrow = 3), #numeric matrix\n",
    "                          df = data.frame(name = c(\"John\",\"Neil\",\"Lisa\",\"Jane\"), gender = c(\"M\",\"M\",\"F\",\"F\")), #data frame\n",
    "                          small_list = list(city = c(\"Texas\",\"New Delhi\",\"London\"), country = c(\"USA\",\"INDIA\",\"UK\")))) #list"
   ]
  },
  {
   "cell_type": "code",
   "execution_count": 29,
   "metadata": {},
   "outputs": [],
   "source": [
    "elist <- list(vec=1:4,df=data.frame(a=1:3, b=4:6),mat=matrix(1:4, nrow=2), name=\"pks\")"
   ]
  },
  {
   "cell_type": "code",
   "execution_count": 30,
   "metadata": {},
   "outputs": [
    {
     "data": {
      "text/html": [
       "<ol class=list-inline>\n",
       "\t<li>1</li>\n",
       "\t<li>2</li>\n",
       "\t<li>3</li>\n",
       "\t<li>4</li>\n",
       "</ol>\n"
      ],
      "text/latex": [
       "\\begin{enumerate*}\n",
       "\\item 1\n",
       "\\item 2\n",
       "\\item 3\n",
       "\\item 4\n",
       "\\end{enumerate*}\n"
      ],
      "text/markdown": [
       "1. 1\n",
       "2. 2\n",
       "3. 3\n",
       "4. 4\n",
       "\n",
       "\n"
      ],
      "text/plain": [
       "[1] 1 2 3 4"
      ]
     },
     "metadata": {},
     "output_type": "display_data"
    }
   ],
   "source": [
    "elist[[\"vec\"]]"
   ]
  },
  {
   "cell_type": "code",
   "execution_count": 31,
   "metadata": {},
   "outputs": [
    {
     "data": {
      "text/html": [
       "<dl>\n",
       "\t<dt>$vec</dt>\n",
       "\t\t<dd><ol class=list-inline>\n",
       "\t<li>1</li>\n",
       "\t<li>2</li>\n",
       "\t<li>3</li>\n",
       "\t<li>4</li>\n",
       "</ol>\n",
       "</dd>\n",
       "\t<dt>$df</dt>\n",
       "\t\t<dd><table>\n",
       "<thead><tr><th scope=col>a</th><th scope=col>b</th></tr></thead>\n",
       "<tbody>\n",
       "\t<tr><td>1</td><td>4</td></tr>\n",
       "\t<tr><td>2</td><td>5</td></tr>\n",
       "\t<tr><td>3</td><td>6</td></tr>\n",
       "</tbody>\n",
       "</table>\n",
       "</dd>\n",
       "\t<dt>$mat</dt>\n",
       "\t\t<dd><table>\n",
       "<tbody>\n",
       "\t<tr><td>1</td><td>3</td></tr>\n",
       "\t<tr><td>2</td><td>4</td></tr>\n",
       "</tbody>\n",
       "</table>\n",
       "</dd>\n",
       "\t<dt>$name</dt>\n",
       "\t\t<dd>'pks'</dd>\n",
       "</dl>\n"
      ],
      "text/latex": [
       "\\begin{description}\n",
       "\\item[\\$vec] \\begin{enumerate*}\n",
       "\\item 1\n",
       "\\item 2\n",
       "\\item 3\n",
       "\\item 4\n",
       "\\end{enumerate*}\n",
       "\n",
       "\\item[\\$df] \\begin{tabular}{r|ll}\n",
       " a & b\\\\\n",
       "\\hline\n",
       "\t 1 & 4\\\\\n",
       "\t 2 & 5\\\\\n",
       "\t 3 & 6\\\\\n",
       "\\end{tabular}\n",
       "\n",
       "\\item[\\$mat] \\begin{tabular}{ll}\n",
       "\t 1 & 3\\\\\n",
       "\t 2 & 4\\\\\n",
       "\\end{tabular}\n",
       "\n",
       "\\item[\\$name] 'pks'\n",
       "\\end{description}\n"
      ],
      "text/markdown": [
       "$vec\n",
       ":   1. 1\n",
       "2. 2\n",
       "3. 3\n",
       "4. 4\n",
       "\n",
       "\n",
       "\n",
       "$df\n",
       ":   \n",
       "| a | b |\n",
       "|---|---|\n",
       "| 1 | 4 |\n",
       "| 2 | 5 |\n",
       "| 3 | 6 |\n",
       "\n",
       "\n",
       "$mat\n",
       ":   \n",
       "| 1 | 3 |\n",
       "| 2 | 4 |\n",
       "\n",
       "\n",
       "$name\n",
       ":   'pks'\n",
       "\n",
       "\n"
      ],
      "text/plain": [
       "$vec\n",
       "[1] 1 2 3 4\n",
       "\n",
       "$df\n",
       "  a b\n",
       "1 1 4\n",
       "2 2 5\n",
       "3 3 6\n",
       "\n",
       "$mat\n",
       "     [,1] [,2]\n",
       "[1,]    1    3\n",
       "[2,]    2    4\n",
       "\n",
       "$name\n",
       "[1] \"pks\"\n"
      ]
     },
     "metadata": {},
     "output_type": "display_data"
    }
   ],
   "source": [
    "elist"
   ]
  },
  {
   "cell_type": "markdown",
   "metadata": {},
   "source": [
    "##### Linear Linked List"
   ]
  },
  {
   "cell_type": "code",
   "execution_count": 32,
   "metadata": {},
   "outputs": [],
   "source": [
    "# empty linked list\n",
    "\n",
    "create_emptyenv <- function() {\n",
    "  emptyenv()\n",
    "}"
   ]
  },
  {
   "cell_type": "code",
   "execution_count": 33,
   "metadata": {},
   "outputs": [],
   "source": [
    "# check is list is empty\n",
    "\n",
    "isEmpty <- function(llist) {\n",
    "  if(class(llist)!= \"linkList\") warning(\"Not linkList class\")\n",
    "  identical(llist, create_emptyenv())\n",
    "}"
   ]
  },
  {
   "cell_type": "code",
   "execution_count": 34,
   "metadata": {},
   "outputs": [],
   "source": [
    "# define a linked list\n",
    "\n",
    "linkListNode <- function(val, node=NULL) {\n",
    "  llist <- new.env(parent=create_emptyenv())\n",
    "  llist$element <- val\n",
    "  llist$nextnode <- node\n",
    "  class(llist) <- \"linkList\"\n",
    "  llist\n",
    "}"
   ]
  },
  {
   "cell_type": "code",
   "execution_count": 35,
   "metadata": {},
   "outputs": [],
   "source": [
    "# create a link list\n",
    "\n",
    "LList <-linkListNode(5,linkListNode(2,create_emptyenv()))"
   ]
  },
  {
   "cell_type": "code",
   "execution_count": 36,
   "metadata": {},
   "outputs": [],
   "source": [
    "# add nodes\n",
    "\n",
    "setNextNode<-function(llist){\n",
    "  llist$nextnode\n",
    "}\n",
    "setNextElement<-function(llist){\n",
    "  llist$element\n",
    "}"
   ]
  },
  {
   "cell_type": "code",
   "execution_count": 37,
   "metadata": {},
   "outputs": [],
   "source": [
    "# return size of linked list\n",
    "\n",
    "sizeLinkList<-function(llist, size=0){\n",
    "  if (isEmpty(llist)) \n",
    "  {\n",
    "    return(size)\n",
    "  } else\n",
    "  {\n",
    "    size<-size+1L\n",
    "    sizeLinkList(llist$nextnode, size)\n",
    "  }\n",
    "}"
   ]
  },
  {
   "cell_type": "code",
   "execution_count": 38,
   "metadata": {},
   "outputs": [],
   "source": [
    "# insertion\n",
    "\n",
    "addElement<-function(new, llist) \n",
    "{\n",
    "  if (isEmpty(llist)) {\n",
    "    llist<-linkedlist(new)\n",
    "  } else\n",
    "  {\n",
    "    llist<-linkListNode(llist, new)\n",
    "  }\n",
    "  llist\n",
    "}"
   ]
  },
  {
   "cell_type": "code",
   "execution_count": 39,
   "metadata": {},
   "outputs": [],
   "source": [
    "# delete and update links\n",
    "\n",
    "delElement<-function(llist, pos=NULL){\n",
    "  if(is.null(pos)) warning(\"Nothing to delete\")\n",
    "  listsize<-sizeLinkList(llist)\n",
    "  if(pos>listsize) stop(\"Position greater than size of list\")\n",
    "  if (isEmpty(llist)) {\n",
    "    warning(\"Empty List\")\n",
    "  } else if(pos==1){\n",
    "    PreviousNode<-llist$nextnode\n",
    "  } else \n",
    "  {\n",
    "    PreviousNode<-linkListNode(llist$element)\n",
    "    for(i in 1:(listsize-1)){\n",
    "      if(pos==(i+1)){\n",
    "        PreviousNode$nextnode<-setNextNode(llist$nextnode)\n",
    "      } else\n",
    "      {\n",
    "        PreviousNode$nextnode<-llist$nextnode\n",
    "        llist<-llist$nextnode\n",
    "      }\n",
    "    }\n",
    "  }\n",
    "  return(PreviousNode)\n",
    "}"
   ]
  },
  {
   "cell_type": "code",
   "execution_count": 40,
   "metadata": {},
   "outputs": [],
   "source": [
    "# searching\n",
    "\n",
    "findItem<-function(llist, item, pos=0, itemFound=FALSE){\n",
    "  if (itemFound==TRUE) \n",
    "  {\n",
    "    return(itemFound)\n",
    "  } else if(isEmpty(llist)){\n",
    "    return(FALSE)\n",
    "  } else\n",
    "  {\n",
    "    pos<-pos+1L\n",
    "    if(llist$element==item) itemFound<-TRUE\n",
    "    findItem(llist$nextnode, item, size, itemFound)\n",
    "  }\n",
    "}"
   ]
  },
  {
   "cell_type": "markdown",
   "metadata": {},
   "source": [
    "##### Doubly linked list"
   ]
  },
  {
   "cell_type": "code",
   "execution_count": 41,
   "metadata": {},
   "outputs": [],
   "source": [
    "dlinkListNode <- function(val, prevnode=NULL, node=NULL) {\n",
    "  llist <- new.env(parent=create_emptyenv())\n",
    "  llist$prevnode <- prevnode\n",
    "  llist$element <- val\n",
    "  llist$nextnode <- node\n",
    "  class(llist) <- \"dlinkList\"\n",
    "  llist\n",
    "}"
   ]
  },
  {
   "cell_type": "markdown",
   "metadata": {},
   "source": [
    "##### Circular linked list"
   ]
  },
  {
   "cell_type": "code",
   "execution_count": 42,
   "metadata": {},
   "outputs": [],
   "source": [
    "cicularLinkList<-function(llist, val){\n",
    "  if(isEmpty(llist)){\n",
    "    llist<-linkListNode(val)\n",
    "    head<-llist\n",
    "  } else\n",
    "  {\n",
    "    llistNew<-linkListNode(val)\n",
    "    llistNew$nextnode<-head\n",
    "    llist<-linkListNode(llist, llistNew) \n",
    "  }\n",
    "  llist\n",
    "}"
   ]
  },
  {
   "cell_type": "markdown",
   "metadata": {},
   "source": [
    "##### Array list"
   ]
  },
  {
   "cell_type": "code",
   "execution_count": 43,
   "metadata": {},
   "outputs": [],
   "source": [
    "ALinkList<-setRefClass(Class = \"ALinkList\",\n",
    "                       fields = list(\n",
    "                         Alist=\"array\",\n",
    "                         listsize=\"integer\",\n",
    "                         arraySize=\"integer\",\n",
    "                         maxSize=\"integer\"\n",
    "                       ), \n",
    "                       methods = list(\n",
    "                         initialize=function(...){\n",
    "                           listsize<<-0L\n",
    "                           arraySize<<-100L\n",
    "                           Alist<<-array(dim = arraySize)\n",
    "                           maxSize<<-arraySize\n",
    "                         }\n",
    "                       ))"
   ]
  },
  {
   "cell_type": "code",
   "execution_count": 44,
   "metadata": {},
   "outputs": [],
   "source": [
    "# return lenght of array\n",
    "\n",
    "listlen = function()\n",
    "{\n",
    "  return(listsize)\n",
    "}"
   ]
  },
  {
   "cell_type": "code",
   "execution_count": 45,
   "metadata": {},
   "outputs": [],
   "source": [
    "# update array size as needed\n",
    "\n",
    "updateArrayList=function(){\n",
    "  Alist<<-c(Alist, array(dim=arraySize))\n",
    "  maxSize<<-maxSize+arraySize\n",
    "}\n",
    "\n",
    "addItem=function(item){\n",
    "  if(maxSize<=listsize){\n",
    "    updateArrayList()\n",
    "  } \n",
    "  listsize<<-listsize+1L\n",
    "  Alist[listsize]<-item\n",
    "  return(listsize)\n",
    "}"
   ]
  },
  {
   "cell_type": "code",
   "execution_count": 46,
   "metadata": {},
   "outputs": [],
   "source": [
    "# remove item based on index\n",
    "\n",
    "removeItem = function(i)\n",
    "{\n",
    "  Alist[i] <<- NULL\n",
    "  listsize <<- listsize - 1L\n",
    "}"
   ]
  },
  {
   "cell_type": "code",
   "execution_count": 47,
   "metadata": {},
   "outputs": [],
   "source": [
    "# searching \n",
    "\n",
    "searchItem = function(val){\n",
    "  pointer<-1L\n",
    "  while(pointer!=listsize){\n",
    "    if(Alist[pointer]==val){\n",
    "      break\n",
    "    } \n",
    "    pointer<-pointer+1L\n",
    "  }\n",
    "  return(pointer)\n",
    "}"
   ]
  },
  {
   "cell_type": "code",
   "execution_count": null,
   "metadata": {},
   "outputs": [],
   "source": []
  }
 ],
 "metadata": {
  "kernelspec": {
   "display_name": "R",
   "language": "R",
   "name": "ir"
  },
  "language_info": {
   "codemirror_mode": "r",
   "file_extension": ".r",
   "mimetype": "text/x-r-source",
   "name": "R",
   "pygments_lexer": "r",
   "version": "3.6.1"
  }
 },
 "nbformat": 4,
 "nbformat_minor": 4
}
