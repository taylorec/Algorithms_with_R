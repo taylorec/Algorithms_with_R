{
 "cells": [
  {
   "cell_type": "markdown",
   "metadata": {},
   "source": [
    "### Dynamic algorithms"
   ]
  },
  {
   "cell_type": "code",
   "execution_count": 1,
   "metadata": {},
   "outputs": [],
   "source": [
    "# Function to compute nth Fibonacci number using recursion\n",
    "nfib<-function(n){\n",
    "  assertthat::assert_that(n>0) & assertthat::assert_that(n<50)\n",
    "  if(n==1 || n==2) return(1)\n",
    "  val<- nfib(n-1) + nfib(n-2)\n",
    "  return(val)\n",
    "}"
   ]
  },
  {
   "cell_type": "code",
   "execution_count": 3,
   "metadata": {},
   "outputs": [
    {
     "data": {
      "text/html": [
       "21"
      ],
      "text/latex": [
       "21"
      ],
      "text/markdown": [
       "21"
      ],
      "text/plain": [
       "[1] 21"
      ]
     },
     "metadata": {},
     "output_type": "display_data"
    }
   ],
   "source": [
    "nfib(8)"
   ]
  },
  {
   "cell_type": "code",
   "execution_count": 2,
   "metadata": {},
   "outputs": [],
   "source": [
    "# Function to compute nth Fibonacci number using Dynamic Programming\n",
    "nfib_DP<-function(n){\n",
    "  assertthat::assert_that(n>0) & assertthat::assert_that(n<50)\n",
    "  if(n<=2) return(1)\n",
    "  lag2_val<-0\n",
    "  lag1_val<-1\n",
    "  nfibval<-1\n",
    "  \n",
    "  # Loop to compute Fibonacci value\n",
    "  for(i in 3:n){\n",
    "    lag2_val<-lag1_val\n",
    "    lag1_val<-nfibval\n",
    "    nfibval<-lag2_val+lag1_val\n",
    "  }\n",
    "  return(nfibval)\n",
    "}"
   ]
  },
  {
   "cell_type": "code",
   "execution_count": 4,
   "metadata": {},
   "outputs": [
    {
     "data": {
      "text/html": [
       "21"
      ],
      "text/latex": [
       "21"
      ],
      "text/markdown": [
       "21"
      ],
      "text/plain": [
       "[1] 21"
      ]
     },
     "metadata": {},
     "output_type": "display_data"
    }
   ],
   "source": [
    "nfib_DP(8)"
   ]
  },
  {
   "cell_type": "code",
   "execution_count": 8,
   "metadata": {},
   "outputs": [],
   "source": [
    "#knapsack\n",
    "knapsack_dp <- function(W,S,C,n) {\n",
    "    require(pracma)\n",
    "    K <- zeros(n+1, W+1)\n",
    "    for (i in 1:(n+1)) {\n",
    "        for (j in 1:(W+1)) {\n",
    "            if (i==1 | j==1) {\n",
    "                K[i,j]=0\n",
    "            } else if (S[i-1] <= j) {\n",
    "                K[i,j]=max(C[i-1]+k[i-1, (j-S[i-1])], K[i-1, j])\n",
    "            } else {\n",
    "                K[i,j] = K[i-1, j]\n",
    "            }\n",
    "        }\n",
    "    }\n",
    "    return(K[n+1, W+1])\n",
    "    }"
   ]
  },
  {
   "cell_type": "code",
   "execution_count": 9,
   "metadata": {},
   "outputs": [],
   "source": [
    "# Floyd-Warshall algorithm for All Pairs Shortest Paths computation\n",
    "floydWarshall<-function(graph){\n",
    "  nodes<-names(graph)\n",
    "  dist<-graph  \n",
    "  for (n in nodes){\n",
    "    for(ni in nodes){\n",
    "      for(nj in nodes){\n",
    "        if((dist[[ni]][n]+dist[[n]][nj])<dist[[ni]][nj]){\n",
    "          dist[[ni]][nj]<-dist[[ni]][n]+dist[[n]][nj]\n",
    "        }\n",
    "      }\n",
    "    }\n",
    "  }\n",
    "  return(dist)\n",
    "}"
   ]
  },
  {
   "cell_type": "code",
   "execution_count": 10,
   "metadata": {},
   "outputs": [],
   "source": [
    "# Defining graph structure\n",
    "graph<-list()\n",
    "graph[[\"A\"]]=c(\"A\"=0, \"B\"=8, \"C\"=Inf, \"D\"=Inf, \"E\"=1, \"F\"=Inf)\n",
    "graph[[\"B\"]]=c(\"A\"=Inf, \"B\"=0, \"C\"=7, \"D\"=6, \"E\"=Inf, \"F\"=Inf)\n",
    "graph[[\"C\"]]=c(\"A\"=Inf, \"B\"=Inf, \"C\"=0, \"D\"=6, \"E\"=Inf, \"F\"=Inf)\n",
    "graph[[\"D\"]]=c(\"A\"=Inf, \"B\"=Inf, \"C\"=Inf, \"D\"=0, \"E\"=Inf, \"F\"=4)\n",
    "graph[[\"E\"]]=c(\"A\"=Inf, \"B\"=3, \"C\"=Inf, \"D\"=Inf, \"E\"=0, \"F\"=9)\n",
    "graph[[\"F\"]]=c(\"A\"=Inf, \"B\"=3, \"C\"=Inf, \"D\"=4, \"E\"=9, \"F\"=0)"
   ]
  },
  {
   "cell_type": "code",
   "execution_count": 11,
   "metadata": {},
   "outputs": [],
   "source": [
    "# get shortest pair distance\n",
    "APSP_Dist<-floydWarshall(graph) "
   ]
  },
  {
   "cell_type": "code",
   "execution_count": 12,
   "metadata": {},
   "outputs": [
    {
     "data": {
      "text/html": [
       "<dl>\n",
       "\t<dt>$A</dt>\n",
       "\t\t<dd><dl class=dl-horizontal>\n",
       "\t<dt>A</dt>\n",
       "\t\t<dd>0</dd>\n",
       "\t<dt>B</dt>\n",
       "\t\t<dd>4</dd>\n",
       "\t<dt>C</dt>\n",
       "\t\t<dd>11</dd>\n",
       "\t<dt>D</dt>\n",
       "\t\t<dd>10</dd>\n",
       "\t<dt>E</dt>\n",
       "\t\t<dd>1</dd>\n",
       "\t<dt>F</dt>\n",
       "\t\t<dd>10</dd>\n",
       "</dl>\n",
       "</dd>\n",
       "\t<dt>$B</dt>\n",
       "\t\t<dd><dl class=dl-horizontal>\n",
       "\t<dt>A</dt>\n",
       "\t\t<dd>Inf</dd>\n",
       "\t<dt>B</dt>\n",
       "\t\t<dd>0</dd>\n",
       "\t<dt>C</dt>\n",
       "\t\t<dd>7</dd>\n",
       "\t<dt>D</dt>\n",
       "\t\t<dd>6</dd>\n",
       "\t<dt>E</dt>\n",
       "\t\t<dd>19</dd>\n",
       "\t<dt>F</dt>\n",
       "\t\t<dd>10</dd>\n",
       "</dl>\n",
       "</dd>\n",
       "\t<dt>$C</dt>\n",
       "\t\t<dd><dl class=dl-horizontal>\n",
       "\t<dt>A</dt>\n",
       "\t\t<dd>Inf</dd>\n",
       "\t<dt>B</dt>\n",
       "\t\t<dd>13</dd>\n",
       "\t<dt>C</dt>\n",
       "\t\t<dd>0</dd>\n",
       "\t<dt>D</dt>\n",
       "\t\t<dd>6</dd>\n",
       "\t<dt>E</dt>\n",
       "\t\t<dd>19</dd>\n",
       "\t<dt>F</dt>\n",
       "\t\t<dd>10</dd>\n",
       "</dl>\n",
       "</dd>\n",
       "\t<dt>$D</dt>\n",
       "\t\t<dd><dl class=dl-horizontal>\n",
       "\t<dt>A</dt>\n",
       "\t\t<dd>Inf</dd>\n",
       "\t<dt>B</dt>\n",
       "\t\t<dd>7</dd>\n",
       "\t<dt>C</dt>\n",
       "\t\t<dd>14</dd>\n",
       "\t<dt>D</dt>\n",
       "\t\t<dd>0</dd>\n",
       "\t<dt>E</dt>\n",
       "\t\t<dd>13</dd>\n",
       "\t<dt>F</dt>\n",
       "\t\t<dd>4</dd>\n",
       "</dl>\n",
       "</dd>\n",
       "\t<dt>$E</dt>\n",
       "\t\t<dd><dl class=dl-horizontal>\n",
       "\t<dt>A</dt>\n",
       "\t\t<dd>Inf</dd>\n",
       "\t<dt>B</dt>\n",
       "\t\t<dd>3</dd>\n",
       "\t<dt>C</dt>\n",
       "\t\t<dd>10</dd>\n",
       "\t<dt>D</dt>\n",
       "\t\t<dd>9</dd>\n",
       "\t<dt>E</dt>\n",
       "\t\t<dd>0</dd>\n",
       "\t<dt>F</dt>\n",
       "\t\t<dd>9</dd>\n",
       "</dl>\n",
       "</dd>\n",
       "\t<dt>$F</dt>\n",
       "\t\t<dd><dl class=dl-horizontal>\n",
       "\t<dt>A</dt>\n",
       "\t\t<dd>Inf</dd>\n",
       "\t<dt>B</dt>\n",
       "\t\t<dd>3</dd>\n",
       "\t<dt>C</dt>\n",
       "\t\t<dd>10</dd>\n",
       "\t<dt>D</dt>\n",
       "\t\t<dd>4</dd>\n",
       "\t<dt>E</dt>\n",
       "\t\t<dd>9</dd>\n",
       "\t<dt>F</dt>\n",
       "\t\t<dd>0</dd>\n",
       "</dl>\n",
       "</dd>\n",
       "</dl>\n"
      ],
      "text/latex": [
       "\\begin{description}\n",
       "\\item[\\$A] \\begin{description*}\n",
       "\\item[A] 0\n",
       "\\item[B] 4\n",
       "\\item[C] 11\n",
       "\\item[D] 10\n",
       "\\item[E] 1\n",
       "\\item[F] 10\n",
       "\\end{description*}\n",
       "\n",
       "\\item[\\$B] \\begin{description*}\n",
       "\\item[A] Inf\n",
       "\\item[B] 0\n",
       "\\item[C] 7\n",
       "\\item[D] 6\n",
       "\\item[E] 19\n",
       "\\item[F] 10\n",
       "\\end{description*}\n",
       "\n",
       "\\item[\\$C] \\begin{description*}\n",
       "\\item[A] Inf\n",
       "\\item[B] 13\n",
       "\\item[C] 0\n",
       "\\item[D] 6\n",
       "\\item[E] 19\n",
       "\\item[F] 10\n",
       "\\end{description*}\n",
       "\n",
       "\\item[\\$D] \\begin{description*}\n",
       "\\item[A] Inf\n",
       "\\item[B] 7\n",
       "\\item[C] 14\n",
       "\\item[D] 0\n",
       "\\item[E] 13\n",
       "\\item[F] 4\n",
       "\\end{description*}\n",
       "\n",
       "\\item[\\$E] \\begin{description*}\n",
       "\\item[A] Inf\n",
       "\\item[B] 3\n",
       "\\item[C] 10\n",
       "\\item[D] 9\n",
       "\\item[E] 0\n",
       "\\item[F] 9\n",
       "\\end{description*}\n",
       "\n",
       "\\item[\\$F] \\begin{description*}\n",
       "\\item[A] Inf\n",
       "\\item[B] 3\n",
       "\\item[C] 10\n",
       "\\item[D] 4\n",
       "\\item[E] 9\n",
       "\\item[F] 0\n",
       "\\end{description*}\n",
       "\n",
       "\\end{description}\n"
      ],
      "text/markdown": [
       "$A\n",
       ":   A\n",
       ":   0B\n",
       ":   4C\n",
       ":   11D\n",
       ":   10E\n",
       ":   1F\n",
       ":   10\n",
       "\n",
       "\n",
       "$B\n",
       ":   A\n",
       ":   InfB\n",
       ":   0C\n",
       ":   7D\n",
       ":   6E\n",
       ":   19F\n",
       ":   10\n",
       "\n",
       "\n",
       "$C\n",
       ":   A\n",
       ":   InfB\n",
       ":   13C\n",
       ":   0D\n",
       ":   6E\n",
       ":   19F\n",
       ":   10\n",
       "\n",
       "\n",
       "$D\n",
       ":   A\n",
       ":   InfB\n",
       ":   7C\n",
       ":   14D\n",
       ":   0E\n",
       ":   13F\n",
       ":   4\n",
       "\n",
       "\n",
       "$E\n",
       ":   A\n",
       ":   InfB\n",
       ":   3C\n",
       ":   10D\n",
       ":   9E\n",
       ":   0F\n",
       ":   9\n",
       "\n",
       "\n",
       "$F\n",
       ":   A\n",
       ":   InfB\n",
       ":   3C\n",
       ":   10D\n",
       ":   4E\n",
       ":   9F\n",
       ":   0\n",
       "\n",
       "\n",
       "\n",
       "\n"
      ],
      "text/plain": [
       "$A\n",
       " A  B  C  D  E  F \n",
       " 0  4 11 10  1 10 \n",
       "\n",
       "$B\n",
       "  A   B   C   D   E   F \n",
       "Inf   0   7   6  19  10 \n",
       "\n",
       "$C\n",
       "  A   B   C   D   E   F \n",
       "Inf  13   0   6  19  10 \n",
       "\n",
       "$D\n",
       "  A   B   C   D   E   F \n",
       "Inf   7  14   0  13   4 \n",
       "\n",
       "$E\n",
       "  A   B   C   D   E   F \n",
       "Inf   3  10   9   0   9 \n",
       "\n",
       "$F\n",
       "  A   B   C   D   E   F \n",
       "Inf   3  10   4   9   0 \n"
      ]
     },
     "metadata": {},
     "output_type": "display_data"
    }
   ],
   "source": [
    "APSP_Dist"
   ]
  },
  {
   "cell_type": "code",
   "execution_count": 17,
   "metadata": {},
   "outputs": [
    {
     "data": {
      "text/html": [
       "<table>\n",
       "<thead><tr><th></th><th scope=col>A</th><th scope=col>B</th><th scope=col>C</th><th scope=col>D</th><th scope=col>E</th><th scope=col>F</th></tr></thead>\n",
       "<tbody>\n",
       "\t<tr><th scope=row>A</th><td> 0 </td><td>Inf</td><td>Inf</td><td>Inf</td><td>Inf</td><td>Inf</td></tr>\n",
       "\t<tr><th scope=row>B</th><td> 4 </td><td>  0</td><td> 13</td><td>  7</td><td>  3</td><td>  3</td></tr>\n",
       "\t<tr><th scope=row>C</th><td>11 </td><td>  7</td><td>  0</td><td> 14</td><td> 10</td><td> 10</td></tr>\n",
       "\t<tr><th scope=row>D</th><td>10 </td><td>  6</td><td>  6</td><td>  0</td><td>  9</td><td>  4</td></tr>\n",
       "\t<tr><th scope=row>E</th><td> 1 </td><td> 19</td><td> 19</td><td> 13</td><td>  0</td><td>  9</td></tr>\n",
       "\t<tr><th scope=row>F</th><td>10 </td><td> 10</td><td> 10</td><td>  4</td><td>  9</td><td>  0</td></tr>\n",
       "</tbody>\n",
       "</table>\n"
      ],
      "text/latex": [
       "\\begin{tabular}{r|llllll}\n",
       "  & A & B & C & D & E & F\\\\\n",
       "\\hline\n",
       "\tA &  0  & Inf & Inf & Inf & Inf & Inf\\\\\n",
       "\tB &  4  &   0 &  13 &   7 &   3 &   3\\\\\n",
       "\tC & 11  &   7 &   0 &  14 &  10 &  10\\\\\n",
       "\tD & 10  &   6 &   6 &   0 &   9 &   4\\\\\n",
       "\tE &  1  &  19 &  19 &  13 &   0 &   9\\\\\n",
       "\tF & 10  &  10 &  10 &   4 &   9 &   0\\\\\n",
       "\\end{tabular}\n"
      ],
      "text/markdown": [
       "\n",
       "| <!--/--> | A | B | C | D | E | F |\n",
       "|---|---|---|---|---|---|---|\n",
       "| A |  0  | Inf | Inf | Inf | Inf | Inf |\n",
       "| B |  4  |   0 |  13 |   7 |   3 |   3 |\n",
       "| C | 11  |   7 |   0 |  14 |  10 |  10 |\n",
       "| D | 10  |   6 |   6 |   0 |   9 |   4 |\n",
       "| E |  1  |  19 |  19 |  13 |   0 |   9 |\n",
       "| F | 10  |  10 |  10 |   4 |   9 |   0 |\n",
       "\n"
      ],
      "text/plain": [
       "  A  B   C   D   E   F  \n",
       "A  0 Inf Inf Inf Inf Inf\n",
       "B  4   0  13   7   3   3\n",
       "C 11   7   0  14  10  10\n",
       "D 10   6   6   0   9   4\n",
       "E  1  19  19  13   0   9\n",
       "F 10  10  10   4   9   0"
      ]
     },
     "metadata": {},
     "output_type": "display_data"
    }
   ],
   "source": [
    "data.frame(APSP_Dist)"
   ]
  },
  {
   "cell_type": "markdown",
   "metadata": {},
   "source": [
    "### Randomized algorithms"
   ]
  },
  {
   "cell_type": "code",
   "execution_count": 19,
   "metadata": {},
   "outputs": [],
   "source": [
    "# Skip node data structure\n",
    "skListNode<-function(val, height=1){\n",
    "  \n",
    "  # function to create empty environment\n",
    "  create_emptyenv = function() {\n",
    "    emptyenv()\n",
    "  }\n",
    "  \n",
    "  # Create skiplist node\n",
    "  skiplist <- new.env(parent=create_emptyenv())\n",
    "  skiplist$element <- val\n",
    "  skiplist$nextnode<-rep(list(NULL), height)\n",
    "  class(skiplist) <- \"skiplist\"\n",
    "  skiplist\n",
    "}\n"
   ]
  },
  {
   "cell_type": "code",
   "execution_count": 20,
   "metadata": {},
   "outputs": [],
   "source": [
    "# Function to find a value in skip list\n",
    "findvalue<-function(skiplist, searchkey){\n",
    "  for (i in level:1){\n",
    "    # Assign head values\n",
    "    skiplist<-skiplist$nextnode[[i]]\n",
    "    while(!is.null(node) && node$element>searchkey){\n",
    "      skiplist<-skiplist$nextnode[[i]]\n",
    "    } \n",
    "    skiplist = skiplist$nextnode[0]\n",
    "    if(!is.null(skiplist) && searchkey==skiplist$element){\n",
    "      # Return element from Skip node\n",
    "      return(skiplist$element) \n",
    "    } else\n",
    "    {\n",
    "      # Element not found return NULL\n",
    "      return(NULL) \n",
    "    }\n",
    "  }\n",
    "}"
   ]
  },
  {
   "cell_type": "code",
   "execution_count": null,
   "metadata": {},
   "outputs": [],
   "source": []
  }
 ],
 "metadata": {
  "kernelspec": {
   "display_name": "R",
   "language": "R",
   "name": "ir"
  },
  "language_info": {
   "codemirror_mode": "r",
   "file_extension": ".r",
   "mimetype": "text/x-r-source",
   "name": "R",
   "pygments_lexer": "r",
   "version": "3.6.1"
  }
 },
 "nbformat": 4,
 "nbformat_minor": 4
}
