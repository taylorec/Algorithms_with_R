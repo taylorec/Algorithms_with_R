{
 "cells": [
  {
   "cell_type": "markdown",
   "metadata": {},
   "source": [
    "##### Array-based stack"
   ]
  },
  {
   "cell_type": "code",
   "execution_count": 5,
   "metadata": {},
   "outputs": [],
   "source": [
    "Astack <- setRefClass(Class = \"Astack\",\n",
    "                      fields = list(\n",
    "                        Maxsize=\"integer\",\n",
    "                        topPos=\"integer\",\n",
    "                        ArrayStack=\"array\"\n",
    "                      ),\n",
    "                      methods = list(\n",
    "                        # Initialization function\n",
    "                        initialize=function(defaultSize=100L,...) \n",
    "                        {\n",
    "                          topPos<<-0L\n",
    "                          Maxsize<<-defaultSize # 100L\n",
    "                          ArrayStack<<-array(dim = Maxsize)\n",
    "                        },\n",
    "                        \n",
    "                        # Check if stack is empty\n",
    "                        isEmpty=function(){\n",
    "                            if(topPos==0) {\n",
    "                                cat(\"Empty Stack!\")\n",
    "                                return(TRUE)\n",
    "                            } else {\n",
    "                                return(FALSE)\n",
    "                            }\n",
    "                        },\n",
    "                        \n",
    "                        # push value to stack\n",
    "                        push=function(pushval){ \n",
    "                            if((topPos+1L)>Maxsize) stop(\"Stack is OUT OF MEMORY!\")\n",
    "                            topPos<<-topPos+1L \n",
    "                            ArrayStack[topPos]<<-pushval\n",
    "                        },\n",
    "                        \n",
    "                        # Pop value from stack\n",
    "                        pop=function() { \n",
    "                            isEmpty() # Check if stack is empty \n",
    "                            popval<-ArrayStack[topPos] \n",
    "                            ArrayStack[topPos]<<-NA \n",
    "                            topPos<<-topPos-1L \n",
    "                            return(popval) \n",
    "                        },\n",
    "                        \n",
    "                        # Function to get size of stack\n",
    "                        stacksize=function() { \n",
    "                            stackIsEmpty<-isEmpty() \n",
    "                            ifelse(stackIsEmpty, return(0), return(topPos)) \n",
    "                        },\n",
    "                        \n",
    "                        # Function to get top value of stack\n",
    "                        top=function() { \n",
    "                            stackIsEmpty<-isEmpty() \n",
    "                            if(stackIsEmpty) { \n",
    "                                cat(\"Empty Stack\") \n",
    "                            } else { \n",
    "                                return(ArrayStack[topPos]) \n",
    "                            } \n",
    "                        }\n",
    "                      ))"
   ]
  },
  {
   "cell_type": "code",
   "execution_count": 6,
   "metadata": {},
   "outputs": [
    {
     "data": {
      "text/html": [
       "3"
      ],
      "text/latex": [
       "3"
      ],
      "text/markdown": [
       "3"
      ],
      "text/plain": [
       "[1] 3"
      ]
     },
     "metadata": {},
     "output_type": "display_data"
    },
    {
     "data": {
      "text/html": [
       "5"
      ],
      "text/latex": [
       "5"
      ],
      "text/markdown": [
       "5"
      ],
      "text/plain": [
       "[1] 5"
      ]
     },
     "metadata": {},
     "output_type": "display_data"
    },
    {
     "data": {
      "text/html": [
       "2"
      ],
      "text/latex": [
       "2"
      ],
      "text/markdown": [
       "2"
      ],
      "text/plain": [
       "[1] 2"
      ]
     },
     "metadata": {},
     "output_type": "display_data"
    },
    {
     "data": {
      "text/html": [
       "1"
      ],
      "text/latex": [
       "1"
      ],
      "text/markdown": [
       "1"
      ],
      "text/plain": [
       "[1] 1"
      ]
     },
     "metadata": {},
     "output_type": "display_data"
    },
    {
     "data": {
      "text/plain": [
       "Reference class object of class \"Astack\"\n",
       "Field \"Maxsize\":\n",
       "[1] 100\n",
       "Field \"topPos\":\n",
       "[1] 1\n",
       "Field \"ArrayStack\":\n",
       "  [1]  1 NA NA NA NA NA NA NA NA NA NA NA NA NA NA NA NA NA NA NA NA NA NA NA NA\n",
       " [26] NA NA NA NA NA NA NA NA NA NA NA NA NA NA NA NA NA NA NA NA NA NA NA NA NA\n",
       " [51] NA NA NA NA NA NA NA NA NA NA NA NA NA NA NA NA NA NA NA NA NA NA NA NA NA\n",
       " [76] NA NA NA NA NA NA NA NA NA NA NA NA NA NA NA NA NA NA NA NA NA NA NA NA NA"
      ]
     },
     "metadata": {},
     "output_type": "display_data"
    }
   ],
   "source": [
    "array_stack_ex<- Astack$new()\n",
    "array_stack_ex$push(1)\n",
    "array_stack_ex$push(2)\n",
    "array_stack_ex$push(3)\n",
    "array_stack_ex$pop()\n",
    "array_stack_ex$push(5)\n",
    "array_stack_ex$pop()\n",
    "array_stack_ex$pop()\n",
    "array_stack_ex$top()\n",
    "array_stack_ex"
   ]
  },
  {
   "cell_type": "markdown",
   "metadata": {},
   "source": [
    "###### Linked stack"
   ]
  },
  {
   "cell_type": "code",
   "execution_count": 10,
   "metadata": {},
   "outputs": [],
   "source": [
    "Linkstack <- setRefClass(Class = \"Linkstack\",\n",
    "                         fields = list(\n",
    "                           Lsize=\"integer\",\n",
    "                           Lstacktop=\"environment\"),\n",
    "                         methods = list(\n",
    "                           # Initialization function\n",
    "                           initialize=function(...) {\n",
    "                             Lsize<<-0L\n",
    "                           },\n",
    "                           \n",
    "                           # Check if stack is empty\n",
    "                           isEmpty=function() {\n",
    "                               if(Lsize==0) { \n",
    "                                   cat(\"Empty Stack!\") \n",
    "                                   return(TRUE) \n",
    "                               } else { \n",
    "                                   return(FALSE) \n",
    "                               } \n",
    "                           },\n",
    "                           \n",
    "                           # Function to create empty R environment\n",
    "                           create_emptyenv=function() { \n",
    "                               emptyenv()\n",
    "                           },\n",
    "                           \n",
    "                           # Function to create node\n",
    "                           Node = function(val, node=NULL) { \n",
    "                               llist <- new.env(parent=create_emptyenv()) \n",
    "                               llist$element <- val \n",
    "                               llist$nextnode <- node \n",
    "                               llist \n",
    "                           },\n",
    "                           \n",
    "                           # push value to stack\n",
    "                           push=function(val) { \n",
    "                               stackIsEmpty<-isEmpty() \n",
    "                               if(stackIsEmpty){ \n",
    "                                   Lstacktop<<-Node(val) \n",
    "                                   Lsize<<-Lsize+1L \n",
    "                               } else { \n",
    "                                   Lstacktop<<-Node(val, Lstacktop) \n",
    "                                   Lsize<<-Lsize+1L \n",
    "                               } \n",
    "                           },\n",
    "                           \n",
    "                           # Pop value from stack\n",
    "                           pop=function() { \n",
    "                               stackIsEmpty<-isEmpty() \n",
    "                               if(stackIsEmpty){ \n",
    "                                   cat(\"Empty Stack\") \n",
    "                               } else { \n",
    "                                   Lstacktop<<-Lstacktop$nextnode \n",
    "                                   Lsize<<-Lsize-1L \n",
    "                               } \n",
    "                           },\n",
    "                           \n",
    "                           # Function to get top value of stack\n",
    "                           topVal=function(){ \n",
    "                               stackIsEmpty<-isEmpty() \n",
    "                               if(stackIsEmpty) { \n",
    "                                   cat(\"Empty Stack\") \n",
    "                               } else {\n",
    "                                   return(Lstacktop$element) \n",
    "                               } \n",
    "                           }\n",
    "                         ))"
   ]
  },
  {
   "cell_type": "code",
   "execution_count": 11,
   "metadata": {},
   "outputs": [
    {
     "name": "stdout",
     "output_type": "stream",
     "text": [
      "Empty Stack!"
     ]
    },
    {
     "data": {
      "text/html": [
       "1"
      ],
      "text/latex": [
       "1"
      ],
      "text/markdown": [
       "1"
      ],
      "text/plain": [
       "[1] 1"
      ]
     },
     "metadata": {},
     "output_type": "display_data"
    },
    {
     "data": {
      "text/plain": [
       "Reference class object of class \"Linkstack\"\n",
       "Field \"Lsize\":\n",
       "[1] 1\n",
       "Field \"Lstacktop\":\n",
       "<environment: 0x0000000009943a38>"
      ]
     },
     "metadata": {},
     "output_type": "display_data"
    }
   ],
   "source": [
    "link_stack_ex<-Linkstack$new()\n",
    "link_stack_ex $push(1)\n",
    "link_stack_ex $push(2)\n",
    "link_stack_ex $push(3)\n",
    "link_stack_ex $pop()\n",
    "link_stack_ex $push(5)\n",
    "link_stack_ex $pop()\n",
    "link_stack_ex $pop()\n",
    "link_stack_ex$topVal()\n",
    "link_stack_ex"
   ]
  },
  {
   "cell_type": "markdown",
   "metadata": {},
   "source": [
    "##### recursion"
   ]
  },
  {
   "cell_type": "code",
   "execution_count": 13,
   "metadata": {},
   "outputs": [],
   "source": [
    "recursive_fact<-function(n) {\n",
    "  if(n<0) return(-1)\n",
    "  if(n == 0) {\n",
    "    return(1)\n",
    "  } else { \n",
    "    return(n*recursive_fact(n-1))\n",
    "  }\n",
    "}"
   ]
  },
  {
   "cell_type": "markdown",
   "metadata": {},
   "source": [
    "##### Array based Queues"
   ]
  },
  {
   "cell_type": "code",
   "execution_count": null,
   "metadata": {},
   "outputs": [],
   "source": [
    "aqueue<-setRefClass(Class = \"aqueue\",\n",
    "                    fields = list(\n",
    "                      Alist=\"array\",\n",
    "                      queuesize=\"integer\",\n",
    "                      maxSize=\"integer\",\n",
    "                      rear = \"integer\",\n",
    "                      top = \"integer\"\n",
    "                    ), \n",
    "                    methods = list(\n",
    "                      initialize=function(qSize, ...){\n",
    "                        queuesize<<-0L\n",
    "                        rear<<-1L\n",
    "                        top<<-0L\n",
    "                        maxSize<<-as.integer(qSize)\n",
    "                        Alist<<-array(dim = maxSize)\n",
    "                      }\n",
    "                      # Queue is empty\n",
    "                      isEmpty = function() {},\n",
    "                      # Add element to the queue\n",
    "                      enqueue = function(val){},\n",
    "                      \n",
    "                      # remove element from queue\n",
    "                      dequeue = function() {},\n",
    "                      \n",
    "                      # size of queue\n",
    "                      size = function() {}\n",
    "                    ))\n",
    "\n",
    "q<-aqueue$new()\n",
    "q\n",
    "\n",
    "isEmpty = function() {\n",
    "  return(queuesize==0L)\n",
    "}\n",
    "\n",
    "enqueue = function(val){\n",
    "  if(queuesize<maxSize){\n",
    "    if(top==maxSize) top<<-0L\n",
    "    top<<-top + 1L\n",
    "    Alist[top]<<-val\n",
    "    queuesize<<-queuesize+1L\n",
    "  } else\n",
    "  {\n",
    "    cat(\"Queue Full!\")\n",
    "  }\n",
    "},\n",
    "\n",
    "dequeue = function() {\n",
    "  if(queuesize>0L){\n",
    "    Alist[rear]<<-NA\n",
    "    ifelse(rear==maxSize, rear<<-1L, rear<<-rear+1L)\n",
    "    queuesize<<-queuesize-1L\n",
    "  } else\n",
    "  {\n",
    "    cat(\"Empty Queue!\") \n",
    "  }\n",
    "  \n",
    "\n",
    "  ListQueue <- setRefClass(Class = \"ListQueue\",\n",
    "                           fields = list(\n",
    "                             Lsize=\"integer\",\n",
    "                             front=\"environment\", \n",
    "                             rear = \"environment\",\n",
    "                             Lqueue=\"environment\"),\n",
    "                           \n",
    "                           methods = list(\n",
    "                             initialize=function(...) {\n",
    "                               Lsize<<-0L\n",
    "                             },\n",
    "                             \n",
    "                             # Check if list is empty\n",
    "                             isEmpty=function(){}, \n",
    "                             \n",
    "                             # create empty environment\n",
    "                             create_emptyenv = function() {},\n",
    "                             \n",
    "                             # Create node \n",
    "                             Node = function(val, node=NULL) {},\n",
    "                             \n",
    "                             # Function to add value to link list\n",
    "                             enqueue=function(val){},\n",
    "                             \n",
    "                             # Function to remove node from link list\n",
    "                             dequeue=function(){}\n",
    "                             \n",
    "                             # Function to get link list size\n",
    "                             size=function(){} \n",
    "                           ))\n",
    "\n",
    "  isEmpty=function(){\n",
    "    if(Lsize==0) {\n",
    "      cat(\"Empty Stack!\")\n",
    "      return(TRUE)\n",
    "    } else\n",
    "    {\n",
    "      return(FALSE)\n",
    "    }\n",
    "  }\n",
    "\n",
    "  create_emptyenv = function() {\n",
    "    emptyenv()\n",
    "  } \n",
    "  \n",
    "  Node = function(val, node=NULL) {\n",
    "    llist <-new.env(parent=create_emptyenv())\n",
    "    llist$element <- val\n",
    "    llist$nextnode <- node\n",
    "    llist\n",
    "  }\n",
    "  \n",
    "  enqueue=function(val){\n",
    "    ListIsEmpty<-isEmpty()\n",
    "    if(ListIsEmpty){\n",
    "      Lqueue<<-Node(val)\n",
    "      Lsize<<-Lsize+1L\n",
    "      rear<<-Lqueue\n",
    "    } else\n",
    "    {\n",
    "      newNode<-Node(val)\n",
    "      assign(\"nextnode\", newNode, envir = rear)\n",
    "      rear<<-newNode\n",
    "      Lsize<<-Lsize+1L\n",
    "    }\n",
    "  }\n",
    "  \n",
    "  dequeue=function(){\n",
    "    stackIsEmpty<-isEmpty()\n",
    "    if(stackIsEmpty){\n",
    "      cat(\"Empty Queue\")\n",
    "    } else\n",
    "    {\n",
    "      Lqueue<<-Lqueue$nextnode\n",
    "      Lsize<<-Lsize-1L\n",
    "    }\n",
    "  } "
   ]
  }
 ],
 "metadata": {
  "kernelspec": {
   "display_name": "R",
   "language": "R",
   "name": "ir"
  },
  "language_info": {
   "codemirror_mode": "r",
   "file_extension": ".r",
   "mimetype": "text/x-r-source",
   "name": "R",
   "pygments_lexer": "r",
   "version": "3.6.1"
  }
 },
 "nbformat": 4,
 "nbformat_minor": 4
}
